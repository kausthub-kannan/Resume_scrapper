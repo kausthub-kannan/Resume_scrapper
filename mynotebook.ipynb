{
 "cells": [
  {
   "cell_type": "code",
   "execution_count": null,
   "outputs": [],
   "source": [
    "import scrape"
   ],
   "metadata": {
    "collapsed": false,
    "pycharm": {
     "is_executing": true
    }
   }
  },
  {
   "cell_type": "code",
   "execution_count": 2,
   "outputs": [
    {
     "name": "stdout",
     "output_type": "stream",
     "text": [
      "---->     Extracting page:  https://www.jobspider.com/job/view-resume-83965.html \n",
      "    ......\n",
      "['Desired Industry', ' Information Technology']\n",
      "['SpiderID', ' 83965']\n",
      "['Desired Job Location', ' New York, New York']\n",
      "['Date Posted', ' 3/6/2023']\n",
      "['Type of Position', ' Other']\n",
      "['Availability Date', ' Immediately']\n",
      "['Desired Wage', '']\n",
      "['U.S. Work Authorization', ' Other']\n",
      "['Job Level', ' Management (Manager, Director)']\n",
      "['Willing to Travel', '']\n",
      "['Highest Degree Attained', ' Masters']\n",
      "['Willing to Relocate', ' Yes']\n",
      "---->     Extracting page:  https://www.jobspider.com/job/view-resume-83943.html \n",
      "    ......\n",
      "['Desired Industry', ' Information Technology']\n",
      "['SpiderID', ' 83943']\n",
      "['Desired Job Location', ' Vero Beach, Florida']\n",
      "['Date Posted', ' 2/17/2023']\n",
      "['Type of Position', ' Full-Time Permanent']\n",
      "['Availability Date', ' 1 April 2023']\n",
      "['Desired Wage', ' 67,000']\n",
      "['U.S. Work Authorization', ' Yes']\n",
      "['Job Level', ' Experienced with over 2 years experience']\n",
      "['Willing to Travel', ' Yes, 50-75%']\n",
      "['Highest Degree Attained', ' Other']\n",
      "['Willing to Relocate', ' Yes']\n",
      "---->     Extracting page:  https://www.jobspider.com/job/view-resume-83929.html \n",
      "    ......\n",
      "['Desired Industry', ' Computer Software/Programming']\n",
      "['SpiderID', ' 83929']\n",
      "['Desired Job Location', ' new york city, New York']\n",
      "['Date Posted', ' 2/3/2023']\n",
      "['Type of Position', ' Full-Time Permanent']\n",
      "['Availability Date', '']\n",
      "['Desired Wage', '']\n",
      "['U.S. Work Authorization', '']\n",
      "['Job Level', ' Experienced with over 2 years experience']\n",
      "['Willing to Travel', '']\n",
      "['Highest Degree Attained', '']\n",
      "['Willing to Relocate', '']\n",
      "---->     Extracting page:  https://www.jobspider.com/job/view-resume-83923.html \n",
      "    ......\n",
      "['Desired Industry', ' Multiple Job Offering']\n",
      "['SpiderID', ' 83923']\n",
      "['Desired Job Location', ' Orangeville, Ontario']\n",
      "['Date Posted', ' 1/26/2023']\n",
      "['Type of Position', ' Full-Time Permanent']\n",
      "['Availability Date', ' February 1 2023']\n",
      "['Desired Wage', ' negotiable']\n",
      "['U.S. Work Authorization', ' No']\n",
      "['Job Level', ' Experienced with over 2 years experience']\n",
      "['Willing to Travel', ' Yes, 50-75%']\n",
      "['Highest Degree Attained', ' Bachelors']\n",
      "['Willing to Relocate', ' Yes']\n",
      "---->     Extracting page:  https://www.jobspider.com/job/view-resume-83916.html \n",
      "    ......\n",
      "['Desired Industry', ' Engineering']\n",
      "['SpiderID', ' 83916']\n",
      "['Desired Job Location', ' Surrey, New Brunswick']\n",
      "['Date Posted', ' 1/17/2023']\n",
      "['Type of Position', ' Full-Time Permanent']\n",
      "['Availability Date', '']\n",
      "['Desired Wage', '']\n",
      "['U.S. Work Authorization', ' Yes']\n",
      "['Job Level', ' Experienced with over 2 years experience']\n",
      "['Willing to Travel', '']\n",
      "['Highest Degree Attained', ' Bachelors']\n",
      "['Willing to Relocate', ' Yes']\n",
      "---->     Extracting page:  https://www.jobspider.com/job/view-resume-83898.html \n",
      "    ......\n",
      "['Desired Industry', ' Information Technology']\n",
      "['SpiderID', ' 83898']\n",
      "['Desired Job Location', ' Dallas,TX, Texas']\n",
      "['Date Posted', ' 12/26/2022']\n",
      "['Type of Position', ' Contractor']\n",
      "['Availability Date', '']\n",
      "['Desired Wage', '']\n",
      "['U.S. Work Authorization', ' Yes']\n",
      "['Job Level', ' Experienced with over 2 years experience']\n",
      "['Willing to Travel', ' Yes, More Than 75%']\n",
      "['Highest Degree Attained', ' Bachelors']\n",
      "['Willing to Relocate', ' Yes']\n",
      "---->     Extracting page:  https://www.jobspider.com/job/view-resume-83896.html \n",
      "    ......\n",
      "['Desired Industry', ' Information Technology']\n",
      "['SpiderID', ' 83896']\n",
      "['Desired Job Location', ' Chicago, Louisiana']\n",
      "['Date Posted', ' 12/16/2022']\n",
      "['Type of Position', ' Contractor']\n",
      "['Availability Date', '']\n",
      "['Desired Wage', '']\n",
      "['U.S. Work Authorization', ' Yes']\n",
      "['Job Level', ' Experienced with over 2 years experience']\n",
      "['Willing to Travel', '']\n",
      "['Highest Degree Attained', ' Bachelors']\n",
      "['Willing to Relocate', ' Yes']\n",
      "---->     Extracting page:  https://www.jobspider.com/job/view-resume-83885.html \n",
      "    ......\n",
      "['Desired Industry', ' Information Technology']\n",
      "['SpiderID', ' 83885']\n",
      "['Desired Job Location', ' Dallas,TX, Texas']\n",
      "['Date Posted', ' 12/5/2022']\n",
      "['Type of Position', ' Contractor']\n",
      "['Availability Date', '']\n",
      "['Desired Wage', '']\n",
      "['U.S. Work Authorization', ' Yes']\n",
      "['Job Level', ' Experienced with over 2 years experience']\n",
      "['Willing to Travel', ' Yes, More Than 75%']\n",
      "['Highest Degree Attained', ' Bachelors']\n",
      "['Willing to Relocate', ' Yes']\n",
      "---->     Extracting page:  https://www.jobspider.com/job/view-resume-83875.html \n",
      "    ......\n",
      "['Desired Industry', ' Computer Software/Programming']\n",
      "['SpiderID', ' 83875']\n",
      "['Desired Job Location', ' New York, New York']\n",
      "['Date Posted', ' 11/30/2022']\n",
      "['Type of Position', ' Contractor']\n",
      "['Availability Date', '']\n",
      "['Desired Wage', ' 90000']\n",
      "['U.S. Work Authorization', ' No']\n",
      "['Job Level', ' Experienced with over 2 years experience']\n",
      "['Willing to Travel', ' No']\n",
      "['Highest Degree Attained', ' Masters']\n",
      "['Willing to Relocate', ' No']\n",
      "---->     Extracting page:  https://www.jobspider.com/job/view-resume-83874.html \n",
      "    ......\n",
      "['Desired Industry', ' Computer Software/Programming']\n",
      "['SpiderID', ' 83874']\n",
      "['Desired Job Location', ' Evans, Georgia']\n",
      "['Date Posted', ' 11/30/2022']\n",
      "['Type of Position', ' Full-Time Permanent']\n",
      "['Availability Date', ' Now']\n",
      "['Desired Wage', ' 120000']\n",
      "['U.S. Work Authorization', ' Yes']\n",
      "['Job Level', ' Experienced with over 2 years experience']\n",
      "['Willing to Travel', ' No']\n",
      "['Highest Degree Attained', ' Masters']\n",
      "['Willing to Relocate', ' Yes']\n",
      "---->     Extracting page:  https://www.jobspider.com/job/view-resume-83873.html \n",
      "    ......\n",
      "['Desired Industry', ' Information Technology']\n",
      "['SpiderID', ' 83873']\n",
      "['Desired Job Location', ' tampa, Florida']\n",
      "['Date Posted', ' 11/30/2022']\n",
      "['Type of Position', ' Contractor']\n",
      "['Availability Date', ' immediate']\n",
      "['Desired Wage', '']\n",
      "['U.S. Work Authorization', ' Yes']\n",
      "['Job Level', ' Experienced with over 2 years experience']\n",
      "['Willing to Travel', ' No']\n",
      "['Highest Degree Attained', ' Bachelors']\n",
      "['Willing to Relocate', ' No']\n",
      "---->     Extracting page:  https://www.jobspider.com/job/view-resume-83871.html \n",
      "    ......\n",
      "['Desired Industry', ' Information Technology']\n",
      "['SpiderID', ' 83871']\n",
      "['Desired Job Location', ' Delhi, California']\n",
      "['Date Posted', ' 11/29/2022']\n",
      "['Type of Position', ' Full-Time Permanent']\n",
      "['Availability Date', '']\n",
      "['Desired Wage', '']\n",
      "['U.S. Work Authorization', ' Yes']\n",
      "['Job Level', ' Experienced with over 2 years experience']\n",
      "['Willing to Travel', '']\n",
      "['Highest Degree Attained', ' Masters']\n",
      "['Willing to Relocate', ' Undecided']\n",
      "---->     Extracting page:  https://www.jobspider.com/job/view-resume-83850.html \n",
      "    ......\n",
      "['Desired Industry', ' Marketing']\n",
      "['SpiderID', ' 83850']\n",
      "['Desired Job Location', ' Santa Ana, California']\n",
      "['Date Posted', ' 11/3/2022']\n",
      "['Type of Position', ' Full-Time Permanent']\n",
      "['Availability Date', ' Immediately']\n",
      "['Desired Wage', ' Open']\n",
      "['U.S. Work Authorization', ' Yes']\n",
      "['Job Level', ' Executive (President, VP, CEO)']\n",
      "['Willing to Travel', ' Yes, Less Than 25%']\n",
      "['Highest Degree Attained', ' Masters']\n",
      "['Willing to Relocate', ' Yes']\n",
      "---->     Extracting page:  https://www.jobspider.com/job/view-resume-83829.html \n",
      "    ......\n",
      "['Desired Industry', ' Hotel/Motel/Hospitality/Tourism']\n",
      "['SpiderID', ' 83829']\n",
      "['Desired Job Location', ' Los Angeles, California']\n",
      "['Date Posted', ' 10/17/2022']\n",
      "['Type of Position', ' Full-Time Permanent']\n",
      "['Availability Date', '']\n",
      "['Desired Wage', '']\n",
      "['U.S. Work Authorization', '']\n",
      "['Job Level', ' New Grad/Entry Level']\n",
      "['Willing to Travel', '']\n",
      "['Highest Degree Attained', '']\n",
      "['Willing to Relocate', '']\n",
      "---->     Extracting page:  https://www.jobspider.com/job/view-resume-83823.html \n",
      "    ......\n",
      "['Desired Industry', ' Sales/Demonstrators']\n",
      "['SpiderID', ' 83823']\n",
      "['Desired Job Location', ' Highland, Michigan']\n",
      "['Date Posted', ' 10/10/2022']\n",
      "['Type of Position', ' Full-Time Permanent']\n",
      "['Availability Date', ' 11/7/2022']\n",
      "['Desired Wage', ' 90000']\n",
      "['U.S. Work Authorization', ' Yes']\n",
      "['Job Level', ' Experienced with over 2 years experience']\n",
      "['Willing to Travel', ' Yes, 50-75%']\n",
      "['Highest Degree Attained', ' Bachelors']\n",
      "['Willing to Relocate', ' No']\n",
      "---->     Extracting page:  https://www.jobspider.com/job/view-resume-83803.html \n",
      "    ......\n",
      "['Desired Industry', ' Engineering']\n",
      "['SpiderID', ' 83803']\n",
      "['Desired Job Location', ' Calgary, Alberta']\n",
      "['Date Posted', ' 9/7/2022']\n",
      "['Type of Position', ' Full-Time Permanent']\n",
      "['Availability Date', ' Immediately']\n",
      "['Desired Wage', '']\n",
      "['U.S. Work Authorization', ' No']\n",
      "['Job Level', ' New Grad/Entry Level']\n",
      "['Willing to Travel', '']\n",
      "['Highest Degree Attained', ' Bachelors']\n",
      "['Willing to Relocate', ' Undecided']\n",
      "---->     Extracting page:  https://www.jobspider.com/job/view-resume-83756.html \n",
      "    ......\n",
      "['Desired Industry', ' Engineering']\n",
      "['SpiderID', ' 83756']\n",
      "['Desired Job Location', ' Etobicoke, Ontario']\n",
      "['Date Posted', ' 7/12/2022']\n",
      "['Type of Position', ' Full-Time Permanent']\n",
      "['Availability Date', ' 01-08-2022']\n",
      "['Desired Wage', ' 50000']\n",
      "['U.S. Work Authorization', ' No']\n",
      "['Job Level', ' New Grad/Entry Level']\n",
      "['Willing to Travel', ' Yes, Less Than 25%']\n",
      "['Highest Degree Attained', ' Masters']\n",
      "['Willing to Relocate', ' Yes']\n",
      "---->     Extracting page:  https://www.jobspider.com/job/view-resume-83747.html \n",
      "    ......\n",
      "['Desired Industry', ' Hotel/Motel/Hospitality/Tourism']\n",
      "['SpiderID', ' 83747']\n",
      "['Desired Job Location', ' Saskatoon, Saskatchewan']\n",
      "['Date Posted', ' 7/5/2022']\n",
      "['Type of Position', ' Full-Time Permanent']\n",
      "['Availability Date', '']\n",
      "['Desired Wage', '']\n",
      "['U.S. Work Authorization', '']\n",
      "['Job Level', ' Experienced with over 2 years experience']\n",
      "['Willing to Travel', '']\n",
      "['Highest Degree Attained', '']\n",
      "['Willing to Relocate', '']\n",
      "---->     Extracting page:  https://www.jobspider.com/job/view-resume-83745.html \n",
      "    ......\n",
      "['Desired Industry', ' Information Technology']\n",
      "['SpiderID', ' 83745']\n",
      "['Desired Job Location', ' indiana polis, Indiana']\n",
      "['Date Posted', ' 7/1/2022']\n",
      "['Type of Position', ' Contractor']\n",
      "['Availability Date', '']\n",
      "['Desired Wage', '']\n",
      "['U.S. Work Authorization', ' Yes']\n",
      "['Job Level', ' Management (Manager, Director)']\n",
      "['Willing to Travel', ' No']\n",
      "['Highest Degree Attained', '']\n",
      "['Willing to Relocate', ' No']\n",
      "---->     Extracting page:  https://www.jobspider.com/job/view-resume-83743.html \n",
      "    ......\n",
      "['Desired Industry', ' Hotel/Motel/Hospitality/Tourism']\n",
      "['SpiderID', ' 83743']\n",
      "['Desired Job Location', ' Minneapolis, Minnesota']\n",
      "['Date Posted', ' 6/30/2022']\n",
      "['Type of Position', ' Full-Time Permanent']\n",
      "['Availability Date', '']\n",
      "['Desired Wage', '']\n",
      "['U.S. Work Authorization', '']\n",
      "['Job Level', ' New Grad/Entry Level']\n",
      "['Willing to Travel', '']\n",
      "['Highest Degree Attained', '']\n",
      "['Willing to Relocate', '']\n",
      "---->     Extracting page:  https://www.jobspider.com/job/view-resume-83740.html \n",
      "    ......\n",
      "['Desired Industry', ' Engineering']\n",
      "['SpiderID', ' 83740']\n",
      "['Desired Job Location', ' Chandler, Arizona']\n",
      "['Date Posted', ' 6/27/2022']\n",
      "['Type of Position', ' Full-Time Permanent']\n",
      "['Availability Date', ' July 01, 2022']\n",
      "['Desired Wage', ' $120K']\n",
      "['U.S. Work Authorization', ' No']\n",
      "['Job Level', ' Experienced with over 2 years experience']\n",
      "['Willing to Travel', ' Yes, Less Than 25%']\n",
      "['Highest Degree Attained', ' Bachelors']\n",
      "['Willing to Relocate', ' No']\n",
      "---->     Extracting page:  https://www.jobspider.com/job/view-resume-83737.html \n",
      "    ......\n",
      "['Desired Industry', ' Manufacturing']\n",
      "['SpiderID', ' 83737']\n",
      "['Desired Job Location', ' Calgary, Alberta']\n",
      "['Date Posted', ' 6/23/2022']\n",
      "['Type of Position', ' Full-Time Permanent']\n",
      "['Availability Date', '']\n",
      "['Desired Wage', '']\n",
      "['U.S. Work Authorization', ' No']\n",
      "['Job Level', ' Management (Manager, Director)']\n",
      "['Willing to Travel', ' Yes, 50-75%']\n",
      "['Highest Degree Attained', ' Bachelors']\n",
      "['Willing to Relocate', ' Yes']\n",
      "---->     Extracting page:  https://www.jobspider.com/job/view-resume-83736.html \n",
      "    ......\n",
      "['Desired Industry', ' Manufacturing']\n",
      "['SpiderID', ' 83736']\n",
      "['Desired Job Location', ' Calgary, Alberta']\n",
      "['Date Posted', ' 6/23/2022']\n",
      "['Type of Position', ' Full-Time Permanent']\n",
      "['Availability Date', '']\n",
      "['Desired Wage', '']\n",
      "['U.S. Work Authorization', ' No']\n",
      "['Job Level', ' Management (Manager, Director)']\n",
      "['Willing to Travel', ' Yes, 50-75%']\n",
      "['Highest Degree Attained', ' Bachelors']\n",
      "['Willing to Relocate', ' Yes']\n",
      "---->     Extracting page:  https://www.jobspider.com/job/view-resume-83727.html \n",
      "    ......\n",
      "['Desired Industry', ' Aviation']\n",
      "['SpiderID', ' 83727']\n",
      "['Desired Job Location', ' Toronto, Ontario']\n",
      "['Date Posted', ' 6/13/2022']\n",
      "['Type of Position', ' Full-Time Permanent']\n",
      "['Availability Date', ' Three Months']\n",
      "['Desired Wage', ' 10000']\n",
      "['U.S. Work Authorization', ' No']\n",
      "['Job Level', ' Management (Manager, Director)']\n",
      "['Willing to Travel', ' Yes, Less Than 25%']\n",
      "['Highest Degree Attained', ' Masters']\n",
      "['Willing to Relocate', ' Yes']\n",
      "---->     Extracting page:  https://www.jobspider.com/job/view-resume-83726.html \n",
      "    ......\n",
      "['Desired Industry', ' Purchasing/Buyers']\n",
      "['SpiderID', ' 83726']\n",
      "['Desired Job Location', ' Dhaka, Bangladesh, British Columbia']\n",
      "['Date Posted', ' 6/11/2022']\n",
      "['Type of Position', ' Full-Time Permanent']\n",
      "['Availability Date', ' Any time after completion of legal document']\n",
      "['Desired Wage', ' CAD 75000-85000/Y']\n",
      "['U.S. Work Authorization', ' No']\n",
      "['Job Level', ' Management (Manager, Director)']\n",
      "['Willing to Travel', ' Yes, 25-50%']\n",
      "['Highest Degree Attained', ' Masters']\n",
      "['Willing to Relocate', ' Yes']\n",
      "---->     Extracting page:  https://www.jobspider.com/job/view-resume-83715.html \n",
      "    ......\n",
      "['Desired Industry', ' Computer Software/Programming']\n",
      "['SpiderID', ' 83715']\n",
      "['Desired Job Location', ' detroit, Michigan']\n",
      "['Date Posted', ' 6/7/2022']\n",
      "['Type of Position', ' Contractor']\n",
      "['Availability Date', '']\n",
      "['Desired Wage', '']\n",
      "['U.S. Work Authorization', ' Yes']\n",
      "['Job Level', ' Experienced with over 2 years experience']\n",
      "['Willing to Travel', ' Yes, 25-50%']\n",
      "['Highest Degree Attained', '']\n",
      "['Willing to Relocate', ' Yes']\n",
      "---->     Extracting page:  https://www.jobspider.com/job/view-resume-83708.html \n",
      "    ......\n",
      "['Desired Industry', ' Information Technology']\n",
      "['SpiderID', ' 83708']\n",
      "['Desired Job Location', ' indiana police, Indiana']\n",
      "['Date Posted', ' 6/3/2022']\n",
      "['Type of Position', ' Contractor']\n",
      "['Availability Date', '']\n",
      "['Desired Wage', '']\n",
      "['U.S. Work Authorization', ' Yes']\n",
      "['Job Level', ' Management (Manager, Director)']\n",
      "['Willing to Travel', ' No']\n",
      "['Highest Degree Attained', '']\n",
      "['Willing to Relocate', ' No']\n",
      "---->     Extracting page:  https://www.jobspider.com/job/view-resume-83695.html \n",
      "    ......\n",
      "['Desired Industry', ' Manufacturing']\n",
      "['SpiderID', ' 83695']\n",
      "['Desired Job Location', ' Toledo, Ohio']\n",
      "['Date Posted', ' 5/23/2022']\n",
      "['Type of Position', ' Full-Time Permanent']\n",
      "['Availability Date', ' 05/16/2022']\n",
      "['Desired Wage', '']\n",
      "['U.S. Work Authorization', ' Yes']\n",
      "['Job Level', ' Management (Manager, Director)']\n",
      "['Willing to Travel', ' Yes, 50-75%']\n",
      "['Highest Degree Attained', ' Bachelors']\n",
      "['Willing to Relocate', ' Yes']\n",
      "---->     Extracting page:  https://www.jobspider.com/job/view-resume-83673.html \n",
      "    ......\n",
      "['Desired Industry', ' Hotel/Motel/Hospitality/Tourism']\n",
      "['SpiderID', ' 83673']\n",
      "['Desired Job Location', ' Orlando, Florida']\n",
      "['Date Posted', ' 5/4/2022']\n",
      "['Type of Position', ' Full-Time Permanent']\n",
      "['Availability Date', '']\n",
      "['Desired Wage', '']\n",
      "['U.S. Work Authorization', '']\n",
      "['Job Level', ' Management (Manager, Director)']\n",
      "['Willing to Travel', '']\n",
      "['Highest Degree Attained', '']\n",
      "['Willing to Relocate', '']\n",
      "---->     Extracting page:  https://www.jobspider.com/job/view-resume-83651.html \n",
      "    ......\n",
      "['Desired Industry', ' Information Technology']\n",
      "['SpiderID', ' 83651']\n",
      "['Desired Job Location', ' Dallas,TX, Texas']\n",
      "['Date Posted', ' 4/21/2022']\n",
      "['Type of Position', ' Contractor']\n",
      "['Availability Date', '']\n",
      "['Desired Wage', '']\n",
      "['U.S. Work Authorization', ' Yes']\n",
      "['Job Level', ' Experienced with over 2 years experience']\n",
      "['Willing to Travel', ' Yes, More Than 75%']\n",
      "['Highest Degree Attained', '']\n",
      "['Willing to Relocate', ' Yes']\n",
      "---->     Extracting page:  https://www.jobspider.com/job/view-resume-83634.html \n",
      "    ......\n",
      "['Desired Industry', ' Hotel/Motel/Hospitality/Tourism']\n",
      "['SpiderID', ' 83634']\n",
      "['Desired Job Location', ' Dallas, Texas']\n",
      "['Date Posted', ' 4/14/2022']\n",
      "['Type of Position', ' Full-Time Permanent']\n",
      "['Availability Date', '']\n",
      "['Desired Wage', '']\n",
      "['U.S. Work Authorization', '']\n",
      "['Job Level', ' Management (Manager, Director)']\n",
      "['Willing to Travel', '']\n",
      "['Highest Degree Attained', '']\n",
      "['Willing to Relocate', '']\n"
     ]
    },
    {
     "ename": "KeyboardInterrupt",
     "evalue": "",
     "output_type": "error",
     "traceback": [
      "\u001B[0;31m---------------------------------------------------------------------------\u001B[0m",
      "\u001B[0;31mKeyboardInterrupt\u001B[0m                         Traceback (most recent call last)",
      "Cell \u001B[0;32mIn [2], line 1\u001B[0m\n\u001B[0;32m----> 1\u001B[0m d \u001B[38;5;241m=\u001B[39m \u001B[43mscrape\u001B[49m\u001B[38;5;241;43m.\u001B[39;49m\u001B[43mscrape\u001B[49m\u001B[43m(\u001B[49m\u001B[43m)\u001B[49m\n",
      "File \u001B[0;32m~/Documents/oneAPIproject/Resume_scrapper/scrape.py:62\u001B[0m, in \u001B[0;36mscrape\u001B[0;34m()\u001B[0m\n\u001B[1;32m     60\u001B[0m soup \u001B[38;5;241m=\u001B[39m BeautifulSoup(site\u001B[38;5;241m.\u001B[39mtext, \u001B[38;5;124m\"\u001B[39m\u001B[38;5;124mlxml\u001B[39m\u001B[38;5;124m\"\u001B[39m)\n\u001B[1;32m     61\u001B[0m links \u001B[38;5;241m=\u001B[39m soup\u001B[38;5;241m.\u001B[39mfind_all(\u001B[38;5;124m'\u001B[39m\u001B[38;5;124mfont\u001B[39m\u001B[38;5;124m'\u001B[39m)[\u001B[38;5;241m13\u001B[39m]\n\u001B[0;32m---> 62\u001B[0m d \u001B[38;5;241m=\u001B[39m \u001B[43mresume_links\u001B[49m\u001B[43m(\u001B[49m\u001B[43mlinks\u001B[49m\u001B[43m,\u001B[49m\u001B[43m \u001B[49m\u001B[43m{\u001B[49m\u001B[43m}\u001B[49m\u001B[43m)\u001B[49m\n\u001B[1;32m     63\u001B[0m \u001B[38;5;66;03m# for page in fetch_pages(links):\u001B[39;00m\n\u001B[1;32m     64\u001B[0m \u001B[38;5;66;03m#     if not check_pages.get(page, None):\u001B[39;00m\n\u001B[1;32m     65\u001B[0m \u001B[38;5;66;03m#         print('\\nPage: ', page)\u001B[39;00m\n\u001B[0;32m   (...)\u001B[0m\n\u001B[1;32m     69\u001B[0m \u001B[38;5;66;03m#         print('Resumes fetched: ', d['SpiderID'].__len__())\u001B[39;00m\n\u001B[1;32m     70\u001B[0m \u001B[38;5;66;03m#         check_pages[page] = 1\u001B[39;00m\n\u001B[1;32m     71\u001B[0m \u001B[38;5;28;01mdel\u001B[39;00m check_pages\n",
      "File \u001B[0;32m~/Documents/oneAPIproject/Resume_scrapper/scrape.py:23\u001B[0m, in \u001B[0;36mresume_links\u001B[0;34m(page_data, d)\u001B[0m\n\u001B[1;32m     21\u001B[0m \u001B[38;5;28;01mif\u001B[39;00m re\u001B[38;5;241m.\u001B[39msearch(\u001B[38;5;124mr\u001B[39m\u001B[38;5;124m'\u001B[39m\u001B[38;5;124m^/job/view-resume+\u001B[39m\u001B[38;5;124m'\u001B[39m, uri):\n\u001B[1;32m     22\u001B[0m     resume \u001B[38;5;241m=\u001B[39m up\u001B[38;5;241m.\u001B[39murljoin(\u001B[38;5;124m'\u001B[39m\u001B[38;5;124mhttps://www.jobspider.com\u001B[39m\u001B[38;5;124m'\u001B[39m, uri)\n\u001B[0;32m---> 23\u001B[0m     soup \u001B[38;5;241m=\u001B[39m BeautifulSoup(\u001B[43mrequests\u001B[49m\u001B[38;5;241;43m.\u001B[39;49m\u001B[43mget\u001B[49m\u001B[43m(\u001B[49m\u001B[43mresume\u001B[49m\u001B[43m)\u001B[49m\u001B[38;5;241m.\u001B[39mtext, \u001B[38;5;124m'\u001B[39m\u001B[38;5;124mlxml\u001B[39m\u001B[38;5;124m'\u001B[39m)\n\u001B[1;32m     24\u001B[0m     \u001B[38;5;28mprint\u001B[39m(\u001B[38;5;124m'\u001B[39m\u001B[38;5;124m---->     Extracting page: \u001B[39m\u001B[38;5;124m'\u001B[39m, resume, \u001B[38;5;124m'\u001B[39m\u001B[38;5;130;01m\\n\u001B[39;00m\u001B[38;5;124m    ......\u001B[39m\u001B[38;5;124m'\u001B[39m)\n\u001B[1;32m     25\u001B[0m     d\u001B[38;5;241m.\u001B[39msetdefault(\u001B[38;5;124m'\u001B[39m\u001B[38;5;124mRole\u001B[39m\u001B[38;5;124m'\u001B[39m, [])\u001B[38;5;241m.\u001B[39mappend(soup\u001B[38;5;241m.\u001B[39mfind(\u001B[38;5;124m'\u001B[39m\u001B[38;5;124mh1\u001B[39m\u001B[38;5;124m'\u001B[39m)\u001B[38;5;241m.\u001B[39mcontents)\n",
      "File \u001B[0;32m~/.local/lib/python3.10/site-packages/requests/api.py:73\u001B[0m, in \u001B[0;36mget\u001B[0;34m(url, params, **kwargs)\u001B[0m\n\u001B[1;32m     62\u001B[0m \u001B[38;5;28;01mdef\u001B[39;00m \u001B[38;5;21mget\u001B[39m(url, params\u001B[38;5;241m=\u001B[39m\u001B[38;5;28;01mNone\u001B[39;00m, \u001B[38;5;241m*\u001B[39m\u001B[38;5;241m*\u001B[39mkwargs):\n\u001B[1;32m     63\u001B[0m     \u001B[38;5;124mr\u001B[39m\u001B[38;5;124;03m\"\"\"Sends a GET request.\u001B[39;00m\n\u001B[1;32m     64\u001B[0m \n\u001B[1;32m     65\u001B[0m \u001B[38;5;124;03m    :param url: URL for the new :class:`Request` object.\u001B[39;00m\n\u001B[0;32m   (...)\u001B[0m\n\u001B[1;32m     70\u001B[0m \u001B[38;5;124;03m    :rtype: requests.Response\u001B[39;00m\n\u001B[1;32m     71\u001B[0m \u001B[38;5;124;03m    \"\"\"\u001B[39;00m\n\u001B[0;32m---> 73\u001B[0m     \u001B[38;5;28;01mreturn\u001B[39;00m \u001B[43mrequest\u001B[49m\u001B[43m(\u001B[49m\u001B[38;5;124;43m\"\u001B[39;49m\u001B[38;5;124;43mget\u001B[39;49m\u001B[38;5;124;43m\"\u001B[39;49m\u001B[43m,\u001B[49m\u001B[43m \u001B[49m\u001B[43murl\u001B[49m\u001B[43m,\u001B[49m\u001B[43m \u001B[49m\u001B[43mparams\u001B[49m\u001B[38;5;241;43m=\u001B[39;49m\u001B[43mparams\u001B[49m\u001B[43m,\u001B[49m\u001B[43m \u001B[49m\u001B[38;5;241;43m*\u001B[39;49m\u001B[38;5;241;43m*\u001B[39;49m\u001B[43mkwargs\u001B[49m\u001B[43m)\u001B[49m\n",
      "File \u001B[0;32m~/.local/lib/python3.10/site-packages/requests/api.py:59\u001B[0m, in \u001B[0;36mrequest\u001B[0;34m(method, url, **kwargs)\u001B[0m\n\u001B[1;32m     55\u001B[0m \u001B[38;5;66;03m# By using the 'with' statement we are sure the session is closed, thus we\u001B[39;00m\n\u001B[1;32m     56\u001B[0m \u001B[38;5;66;03m# avoid leaving sockets open which can trigger a ResourceWarning in some\u001B[39;00m\n\u001B[1;32m     57\u001B[0m \u001B[38;5;66;03m# cases, and look like a memory leak in others.\u001B[39;00m\n\u001B[1;32m     58\u001B[0m \u001B[38;5;28;01mwith\u001B[39;00m sessions\u001B[38;5;241m.\u001B[39mSession() \u001B[38;5;28;01mas\u001B[39;00m session:\n\u001B[0;32m---> 59\u001B[0m     \u001B[38;5;28;01mreturn\u001B[39;00m \u001B[43msession\u001B[49m\u001B[38;5;241;43m.\u001B[39;49m\u001B[43mrequest\u001B[49m\u001B[43m(\u001B[49m\u001B[43mmethod\u001B[49m\u001B[38;5;241;43m=\u001B[39;49m\u001B[43mmethod\u001B[49m\u001B[43m,\u001B[49m\u001B[43m \u001B[49m\u001B[43murl\u001B[49m\u001B[38;5;241;43m=\u001B[39;49m\u001B[43murl\u001B[49m\u001B[43m,\u001B[49m\u001B[43m \u001B[49m\u001B[38;5;241;43m*\u001B[39;49m\u001B[38;5;241;43m*\u001B[39;49m\u001B[43mkwargs\u001B[49m\u001B[43m)\u001B[49m\n",
      "File \u001B[0;32m~/.local/lib/python3.10/site-packages/requests/sessions.py:587\u001B[0m, in \u001B[0;36mSession.request\u001B[0;34m(self, method, url, params, data, headers, cookies, files, auth, timeout, allow_redirects, proxies, hooks, stream, verify, cert, json)\u001B[0m\n\u001B[1;32m    582\u001B[0m send_kwargs \u001B[38;5;241m=\u001B[39m {\n\u001B[1;32m    583\u001B[0m     \u001B[38;5;124m\"\u001B[39m\u001B[38;5;124mtimeout\u001B[39m\u001B[38;5;124m\"\u001B[39m: timeout,\n\u001B[1;32m    584\u001B[0m     \u001B[38;5;124m\"\u001B[39m\u001B[38;5;124mallow_redirects\u001B[39m\u001B[38;5;124m\"\u001B[39m: allow_redirects,\n\u001B[1;32m    585\u001B[0m }\n\u001B[1;32m    586\u001B[0m send_kwargs\u001B[38;5;241m.\u001B[39mupdate(settings)\n\u001B[0;32m--> 587\u001B[0m resp \u001B[38;5;241m=\u001B[39m \u001B[38;5;28;43mself\u001B[39;49m\u001B[38;5;241;43m.\u001B[39;49m\u001B[43msend\u001B[49m\u001B[43m(\u001B[49m\u001B[43mprep\u001B[49m\u001B[43m,\u001B[49m\u001B[43m \u001B[49m\u001B[38;5;241;43m*\u001B[39;49m\u001B[38;5;241;43m*\u001B[39;49m\u001B[43msend_kwargs\u001B[49m\u001B[43m)\u001B[49m\n\u001B[1;32m    589\u001B[0m \u001B[38;5;28;01mreturn\u001B[39;00m resp\n",
      "File \u001B[0;32m~/.local/lib/python3.10/site-packages/requests/sessions.py:701\u001B[0m, in \u001B[0;36mSession.send\u001B[0;34m(self, request, **kwargs)\u001B[0m\n\u001B[1;32m    698\u001B[0m start \u001B[38;5;241m=\u001B[39m preferred_clock()\n\u001B[1;32m    700\u001B[0m \u001B[38;5;66;03m# Send the request\u001B[39;00m\n\u001B[0;32m--> 701\u001B[0m r \u001B[38;5;241m=\u001B[39m \u001B[43madapter\u001B[49m\u001B[38;5;241;43m.\u001B[39;49m\u001B[43msend\u001B[49m\u001B[43m(\u001B[49m\u001B[43mrequest\u001B[49m\u001B[43m,\u001B[49m\u001B[43m \u001B[49m\u001B[38;5;241;43m*\u001B[39;49m\u001B[38;5;241;43m*\u001B[39;49m\u001B[43mkwargs\u001B[49m\u001B[43m)\u001B[49m\n\u001B[1;32m    703\u001B[0m \u001B[38;5;66;03m# Total elapsed time of the request (approximately)\u001B[39;00m\n\u001B[1;32m    704\u001B[0m elapsed \u001B[38;5;241m=\u001B[39m preferred_clock() \u001B[38;5;241m-\u001B[39m start\n",
      "File \u001B[0;32m~/.local/lib/python3.10/site-packages/requests/adapters.py:489\u001B[0m, in \u001B[0;36mHTTPAdapter.send\u001B[0;34m(self, request, stream, timeout, verify, cert, proxies)\u001B[0m\n\u001B[1;32m    487\u001B[0m \u001B[38;5;28;01mtry\u001B[39;00m:\n\u001B[1;32m    488\u001B[0m     \u001B[38;5;28;01mif\u001B[39;00m \u001B[38;5;129;01mnot\u001B[39;00m chunked:\n\u001B[0;32m--> 489\u001B[0m         resp \u001B[38;5;241m=\u001B[39m \u001B[43mconn\u001B[49m\u001B[38;5;241;43m.\u001B[39;49m\u001B[43murlopen\u001B[49m\u001B[43m(\u001B[49m\n\u001B[1;32m    490\u001B[0m \u001B[43m            \u001B[49m\u001B[43mmethod\u001B[49m\u001B[38;5;241;43m=\u001B[39;49m\u001B[43mrequest\u001B[49m\u001B[38;5;241;43m.\u001B[39;49m\u001B[43mmethod\u001B[49m\u001B[43m,\u001B[49m\n\u001B[1;32m    491\u001B[0m \u001B[43m            \u001B[49m\u001B[43murl\u001B[49m\u001B[38;5;241;43m=\u001B[39;49m\u001B[43murl\u001B[49m\u001B[43m,\u001B[49m\n\u001B[1;32m    492\u001B[0m \u001B[43m            \u001B[49m\u001B[43mbody\u001B[49m\u001B[38;5;241;43m=\u001B[39;49m\u001B[43mrequest\u001B[49m\u001B[38;5;241;43m.\u001B[39;49m\u001B[43mbody\u001B[49m\u001B[43m,\u001B[49m\n\u001B[1;32m    493\u001B[0m \u001B[43m            \u001B[49m\u001B[43mheaders\u001B[49m\u001B[38;5;241;43m=\u001B[39;49m\u001B[43mrequest\u001B[49m\u001B[38;5;241;43m.\u001B[39;49m\u001B[43mheaders\u001B[49m\u001B[43m,\u001B[49m\n\u001B[1;32m    494\u001B[0m \u001B[43m            \u001B[49m\u001B[43mredirect\u001B[49m\u001B[38;5;241;43m=\u001B[39;49m\u001B[38;5;28;43;01mFalse\u001B[39;49;00m\u001B[43m,\u001B[49m\n\u001B[1;32m    495\u001B[0m \u001B[43m            \u001B[49m\u001B[43massert_same_host\u001B[49m\u001B[38;5;241;43m=\u001B[39;49m\u001B[38;5;28;43;01mFalse\u001B[39;49;00m\u001B[43m,\u001B[49m\n\u001B[1;32m    496\u001B[0m \u001B[43m            \u001B[49m\u001B[43mpreload_content\u001B[49m\u001B[38;5;241;43m=\u001B[39;49m\u001B[38;5;28;43;01mFalse\u001B[39;49;00m\u001B[43m,\u001B[49m\n\u001B[1;32m    497\u001B[0m \u001B[43m            \u001B[49m\u001B[43mdecode_content\u001B[49m\u001B[38;5;241;43m=\u001B[39;49m\u001B[38;5;28;43;01mFalse\u001B[39;49;00m\u001B[43m,\u001B[49m\n\u001B[1;32m    498\u001B[0m \u001B[43m            \u001B[49m\u001B[43mretries\u001B[49m\u001B[38;5;241;43m=\u001B[39;49m\u001B[38;5;28;43mself\u001B[39;49m\u001B[38;5;241;43m.\u001B[39;49m\u001B[43mmax_retries\u001B[49m\u001B[43m,\u001B[49m\n\u001B[1;32m    499\u001B[0m \u001B[43m            \u001B[49m\u001B[43mtimeout\u001B[49m\u001B[38;5;241;43m=\u001B[39;49m\u001B[43mtimeout\u001B[49m\u001B[43m,\u001B[49m\n\u001B[1;32m    500\u001B[0m \u001B[43m        \u001B[49m\u001B[43m)\u001B[49m\n\u001B[1;32m    502\u001B[0m     \u001B[38;5;66;03m# Send the request.\u001B[39;00m\n\u001B[1;32m    503\u001B[0m     \u001B[38;5;28;01melse\u001B[39;00m:\n\u001B[1;32m    504\u001B[0m         \u001B[38;5;28;01mif\u001B[39;00m \u001B[38;5;28mhasattr\u001B[39m(conn, \u001B[38;5;124m\"\u001B[39m\u001B[38;5;124mproxy_pool\u001B[39m\u001B[38;5;124m\"\u001B[39m):\n",
      "File \u001B[0;32m~/Documents/oneAPIproject/venv/lib/python3.10/site-packages/urllib3/connectionpool.py:703\u001B[0m, in \u001B[0;36mHTTPConnectionPool.urlopen\u001B[0;34m(self, method, url, body, headers, retries, redirect, assert_same_host, timeout, pool_timeout, release_conn, chunked, body_pos, **response_kw)\u001B[0m\n\u001B[1;32m    700\u001B[0m     \u001B[38;5;28mself\u001B[39m\u001B[38;5;241m.\u001B[39m_prepare_proxy(conn)\n\u001B[1;32m    702\u001B[0m \u001B[38;5;66;03m# Make the request on the httplib connection object.\u001B[39;00m\n\u001B[0;32m--> 703\u001B[0m httplib_response \u001B[38;5;241m=\u001B[39m \u001B[38;5;28;43mself\u001B[39;49m\u001B[38;5;241;43m.\u001B[39;49m\u001B[43m_make_request\u001B[49m\u001B[43m(\u001B[49m\n\u001B[1;32m    704\u001B[0m \u001B[43m    \u001B[49m\u001B[43mconn\u001B[49m\u001B[43m,\u001B[49m\n\u001B[1;32m    705\u001B[0m \u001B[43m    \u001B[49m\u001B[43mmethod\u001B[49m\u001B[43m,\u001B[49m\n\u001B[1;32m    706\u001B[0m \u001B[43m    \u001B[49m\u001B[43murl\u001B[49m\u001B[43m,\u001B[49m\n\u001B[1;32m    707\u001B[0m \u001B[43m    \u001B[49m\u001B[43mtimeout\u001B[49m\u001B[38;5;241;43m=\u001B[39;49m\u001B[43mtimeout_obj\u001B[49m\u001B[43m,\u001B[49m\n\u001B[1;32m    708\u001B[0m \u001B[43m    \u001B[49m\u001B[43mbody\u001B[49m\u001B[38;5;241;43m=\u001B[39;49m\u001B[43mbody\u001B[49m\u001B[43m,\u001B[49m\n\u001B[1;32m    709\u001B[0m \u001B[43m    \u001B[49m\u001B[43mheaders\u001B[49m\u001B[38;5;241;43m=\u001B[39;49m\u001B[43mheaders\u001B[49m\u001B[43m,\u001B[49m\n\u001B[1;32m    710\u001B[0m \u001B[43m    \u001B[49m\u001B[43mchunked\u001B[49m\u001B[38;5;241;43m=\u001B[39;49m\u001B[43mchunked\u001B[49m\u001B[43m,\u001B[49m\n\u001B[1;32m    711\u001B[0m \u001B[43m\u001B[49m\u001B[43m)\u001B[49m\n\u001B[1;32m    713\u001B[0m \u001B[38;5;66;03m# If we're going to release the connection in ``finally:``, then\u001B[39;00m\n\u001B[1;32m    714\u001B[0m \u001B[38;5;66;03m# the response doesn't need to know about the connection. Otherwise\u001B[39;00m\n\u001B[1;32m    715\u001B[0m \u001B[38;5;66;03m# it will also try to release it and we'll have a double-release\u001B[39;00m\n\u001B[1;32m    716\u001B[0m \u001B[38;5;66;03m# mess.\u001B[39;00m\n\u001B[1;32m    717\u001B[0m response_conn \u001B[38;5;241m=\u001B[39m conn \u001B[38;5;28;01mif\u001B[39;00m \u001B[38;5;129;01mnot\u001B[39;00m release_conn \u001B[38;5;28;01melse\u001B[39;00m \u001B[38;5;28;01mNone\u001B[39;00m\n",
      "File \u001B[0;32m~/Documents/oneAPIproject/venv/lib/python3.10/site-packages/urllib3/connectionpool.py:386\u001B[0m, in \u001B[0;36mHTTPConnectionPool._make_request\u001B[0;34m(self, conn, method, url, timeout, chunked, **httplib_request_kw)\u001B[0m\n\u001B[1;32m    384\u001B[0m \u001B[38;5;66;03m# Trigger any extra validation we need to do.\u001B[39;00m\n\u001B[1;32m    385\u001B[0m \u001B[38;5;28;01mtry\u001B[39;00m:\n\u001B[0;32m--> 386\u001B[0m     \u001B[38;5;28;43mself\u001B[39;49m\u001B[38;5;241;43m.\u001B[39;49m\u001B[43m_validate_conn\u001B[49m\u001B[43m(\u001B[49m\u001B[43mconn\u001B[49m\u001B[43m)\u001B[49m\n\u001B[1;32m    387\u001B[0m \u001B[38;5;28;01mexcept\u001B[39;00m (SocketTimeout, BaseSSLError) \u001B[38;5;28;01mas\u001B[39;00m e:\n\u001B[1;32m    388\u001B[0m     \u001B[38;5;66;03m# Py2 raises this as a BaseSSLError, Py3 raises it as socket timeout.\u001B[39;00m\n\u001B[1;32m    389\u001B[0m     \u001B[38;5;28mself\u001B[39m\u001B[38;5;241m.\u001B[39m_raise_timeout(err\u001B[38;5;241m=\u001B[39me, url\u001B[38;5;241m=\u001B[39murl, timeout_value\u001B[38;5;241m=\u001B[39mconn\u001B[38;5;241m.\u001B[39mtimeout)\n",
      "File \u001B[0;32m~/Documents/oneAPIproject/venv/lib/python3.10/site-packages/urllib3/connectionpool.py:1042\u001B[0m, in \u001B[0;36mHTTPSConnectionPool._validate_conn\u001B[0;34m(self, conn)\u001B[0m\n\u001B[1;32m   1040\u001B[0m \u001B[38;5;66;03m# Force connect early to allow us to validate the connection.\u001B[39;00m\n\u001B[1;32m   1041\u001B[0m \u001B[38;5;28;01mif\u001B[39;00m \u001B[38;5;129;01mnot\u001B[39;00m \u001B[38;5;28mgetattr\u001B[39m(conn, \u001B[38;5;124m\"\u001B[39m\u001B[38;5;124msock\u001B[39m\u001B[38;5;124m\"\u001B[39m, \u001B[38;5;28;01mNone\u001B[39;00m):  \u001B[38;5;66;03m# AppEngine might not have  `.sock`\u001B[39;00m\n\u001B[0;32m-> 1042\u001B[0m     \u001B[43mconn\u001B[49m\u001B[38;5;241;43m.\u001B[39;49m\u001B[43mconnect\u001B[49m\u001B[43m(\u001B[49m\u001B[43m)\u001B[49m\n\u001B[1;32m   1044\u001B[0m \u001B[38;5;28;01mif\u001B[39;00m \u001B[38;5;129;01mnot\u001B[39;00m conn\u001B[38;5;241m.\u001B[39mis_verified:\n\u001B[1;32m   1045\u001B[0m     warnings\u001B[38;5;241m.\u001B[39mwarn(\n\u001B[1;32m   1046\u001B[0m         (\n\u001B[1;32m   1047\u001B[0m             \u001B[38;5;124m\"\u001B[39m\u001B[38;5;124mUnverified HTTPS request is being made to host \u001B[39m\u001B[38;5;124m'\u001B[39m\u001B[38;5;132;01m%s\u001B[39;00m\u001B[38;5;124m'\u001B[39m\u001B[38;5;124m. \u001B[39m\u001B[38;5;124m\"\u001B[39m\n\u001B[0;32m   (...)\u001B[0m\n\u001B[1;32m   1052\u001B[0m         InsecureRequestWarning,\n\u001B[1;32m   1053\u001B[0m     )\n",
      "File \u001B[0;32m~/Documents/oneAPIproject/venv/lib/python3.10/site-packages/urllib3/connection.py:414\u001B[0m, in \u001B[0;36mHTTPSConnection.connect\u001B[0;34m(self)\u001B[0m\n\u001B[1;32m    405\u001B[0m \u001B[38;5;28;01mif\u001B[39;00m (\n\u001B[1;32m    406\u001B[0m     \u001B[38;5;129;01mnot\u001B[39;00m \u001B[38;5;28mself\u001B[39m\u001B[38;5;241m.\u001B[39mca_certs\n\u001B[1;32m    407\u001B[0m     \u001B[38;5;129;01mand\u001B[39;00m \u001B[38;5;129;01mnot\u001B[39;00m \u001B[38;5;28mself\u001B[39m\u001B[38;5;241m.\u001B[39mca_cert_dir\n\u001B[0;32m   (...)\u001B[0m\n\u001B[1;32m    410\u001B[0m     \u001B[38;5;129;01mand\u001B[39;00m \u001B[38;5;28mhasattr\u001B[39m(context, \u001B[38;5;124m\"\u001B[39m\u001B[38;5;124mload_default_certs\u001B[39m\u001B[38;5;124m\"\u001B[39m)\n\u001B[1;32m    411\u001B[0m ):\n\u001B[1;32m    412\u001B[0m     context\u001B[38;5;241m.\u001B[39mload_default_certs()\n\u001B[0;32m--> 414\u001B[0m \u001B[38;5;28mself\u001B[39m\u001B[38;5;241m.\u001B[39msock \u001B[38;5;241m=\u001B[39m \u001B[43mssl_wrap_socket\u001B[49m\u001B[43m(\u001B[49m\n\u001B[1;32m    415\u001B[0m \u001B[43m    \u001B[49m\u001B[43msock\u001B[49m\u001B[38;5;241;43m=\u001B[39;49m\u001B[43mconn\u001B[49m\u001B[43m,\u001B[49m\n\u001B[1;32m    416\u001B[0m \u001B[43m    \u001B[49m\u001B[43mkeyfile\u001B[49m\u001B[38;5;241;43m=\u001B[39;49m\u001B[38;5;28;43mself\u001B[39;49m\u001B[38;5;241;43m.\u001B[39;49m\u001B[43mkey_file\u001B[49m\u001B[43m,\u001B[49m\n\u001B[1;32m    417\u001B[0m \u001B[43m    \u001B[49m\u001B[43mcertfile\u001B[49m\u001B[38;5;241;43m=\u001B[39;49m\u001B[38;5;28;43mself\u001B[39;49m\u001B[38;5;241;43m.\u001B[39;49m\u001B[43mcert_file\u001B[49m\u001B[43m,\u001B[49m\n\u001B[1;32m    418\u001B[0m \u001B[43m    \u001B[49m\u001B[43mkey_password\u001B[49m\u001B[38;5;241;43m=\u001B[39;49m\u001B[38;5;28;43mself\u001B[39;49m\u001B[38;5;241;43m.\u001B[39;49m\u001B[43mkey_password\u001B[49m\u001B[43m,\u001B[49m\n\u001B[1;32m    419\u001B[0m \u001B[43m    \u001B[49m\u001B[43mca_certs\u001B[49m\u001B[38;5;241;43m=\u001B[39;49m\u001B[38;5;28;43mself\u001B[39;49m\u001B[38;5;241;43m.\u001B[39;49m\u001B[43mca_certs\u001B[49m\u001B[43m,\u001B[49m\n\u001B[1;32m    420\u001B[0m \u001B[43m    \u001B[49m\u001B[43mca_cert_dir\u001B[49m\u001B[38;5;241;43m=\u001B[39;49m\u001B[38;5;28;43mself\u001B[39;49m\u001B[38;5;241;43m.\u001B[39;49m\u001B[43mca_cert_dir\u001B[49m\u001B[43m,\u001B[49m\n\u001B[1;32m    421\u001B[0m \u001B[43m    \u001B[49m\u001B[43mca_cert_data\u001B[49m\u001B[38;5;241;43m=\u001B[39;49m\u001B[38;5;28;43mself\u001B[39;49m\u001B[38;5;241;43m.\u001B[39;49m\u001B[43mca_cert_data\u001B[49m\u001B[43m,\u001B[49m\n\u001B[1;32m    422\u001B[0m \u001B[43m    \u001B[49m\u001B[43mserver_hostname\u001B[49m\u001B[38;5;241;43m=\u001B[39;49m\u001B[43mserver_hostname\u001B[49m\u001B[43m,\u001B[49m\n\u001B[1;32m    423\u001B[0m \u001B[43m    \u001B[49m\u001B[43mssl_context\u001B[49m\u001B[38;5;241;43m=\u001B[39;49m\u001B[43mcontext\u001B[49m\u001B[43m,\u001B[49m\n\u001B[1;32m    424\u001B[0m \u001B[43m    \u001B[49m\u001B[43mtls_in_tls\u001B[49m\u001B[38;5;241;43m=\u001B[39;49m\u001B[43mtls_in_tls\u001B[49m\u001B[43m,\u001B[49m\n\u001B[1;32m    425\u001B[0m \u001B[43m\u001B[49m\u001B[43m)\u001B[49m\n\u001B[1;32m    427\u001B[0m \u001B[38;5;66;03m# If we're using all defaults and the connection\u001B[39;00m\n\u001B[1;32m    428\u001B[0m \u001B[38;5;66;03m# is TLSv1 or TLSv1.1 we throw a DeprecationWarning\u001B[39;00m\n\u001B[1;32m    429\u001B[0m \u001B[38;5;66;03m# for the host.\u001B[39;00m\n\u001B[1;32m    430\u001B[0m \u001B[38;5;28;01mif\u001B[39;00m (\n\u001B[1;32m    431\u001B[0m     default_ssl_context\n\u001B[1;32m    432\u001B[0m     \u001B[38;5;129;01mand\u001B[39;00m \u001B[38;5;28mself\u001B[39m\u001B[38;5;241m.\u001B[39mssl_version \u001B[38;5;129;01mis\u001B[39;00m \u001B[38;5;28;01mNone\u001B[39;00m\n\u001B[1;32m    433\u001B[0m     \u001B[38;5;129;01mand\u001B[39;00m \u001B[38;5;28mhasattr\u001B[39m(\u001B[38;5;28mself\u001B[39m\u001B[38;5;241m.\u001B[39msock, \u001B[38;5;124m\"\u001B[39m\u001B[38;5;124mversion\u001B[39m\u001B[38;5;124m\"\u001B[39m)\n\u001B[1;32m    434\u001B[0m     \u001B[38;5;129;01mand\u001B[39;00m \u001B[38;5;28mself\u001B[39m\u001B[38;5;241m.\u001B[39msock\u001B[38;5;241m.\u001B[39mversion() \u001B[38;5;129;01min\u001B[39;00m {\u001B[38;5;124m\"\u001B[39m\u001B[38;5;124mTLSv1\u001B[39m\u001B[38;5;124m\"\u001B[39m, \u001B[38;5;124m\"\u001B[39m\u001B[38;5;124mTLSv1.1\u001B[39m\u001B[38;5;124m\"\u001B[39m}\n\u001B[1;32m    435\u001B[0m ):\n",
      "File \u001B[0;32m~/Documents/oneAPIproject/venv/lib/python3.10/site-packages/urllib3/util/ssl_.py:449\u001B[0m, in \u001B[0;36mssl_wrap_socket\u001B[0;34m(sock, keyfile, certfile, cert_reqs, ca_certs, server_hostname, ssl_version, ciphers, ssl_context, ca_cert_dir, key_password, ca_cert_data, tls_in_tls)\u001B[0m\n\u001B[1;32m    437\u001B[0m     warnings\u001B[38;5;241m.\u001B[39mwarn(\n\u001B[1;32m    438\u001B[0m         \u001B[38;5;124m\"\u001B[39m\u001B[38;5;124mAn HTTPS request has been made, but the SNI (Server Name \u001B[39m\u001B[38;5;124m\"\u001B[39m\n\u001B[1;32m    439\u001B[0m         \u001B[38;5;124m\"\u001B[39m\u001B[38;5;124mIndication) extension to TLS is not available on this platform. \u001B[39m\u001B[38;5;124m\"\u001B[39m\n\u001B[0;32m   (...)\u001B[0m\n\u001B[1;32m    445\u001B[0m         SNIMissingWarning,\n\u001B[1;32m    446\u001B[0m     )\n\u001B[1;32m    448\u001B[0m \u001B[38;5;28;01mif\u001B[39;00m send_sni:\n\u001B[0;32m--> 449\u001B[0m     ssl_sock \u001B[38;5;241m=\u001B[39m \u001B[43m_ssl_wrap_socket_impl\u001B[49m\u001B[43m(\u001B[49m\n\u001B[1;32m    450\u001B[0m \u001B[43m        \u001B[49m\u001B[43msock\u001B[49m\u001B[43m,\u001B[49m\u001B[43m \u001B[49m\u001B[43mcontext\u001B[49m\u001B[43m,\u001B[49m\u001B[43m \u001B[49m\u001B[43mtls_in_tls\u001B[49m\u001B[43m,\u001B[49m\u001B[43m \u001B[49m\u001B[43mserver_hostname\u001B[49m\u001B[38;5;241;43m=\u001B[39;49m\u001B[43mserver_hostname\u001B[49m\n\u001B[1;32m    451\u001B[0m \u001B[43m    \u001B[49m\u001B[43m)\u001B[49m\n\u001B[1;32m    452\u001B[0m \u001B[38;5;28;01melse\u001B[39;00m:\n\u001B[1;32m    453\u001B[0m     ssl_sock \u001B[38;5;241m=\u001B[39m _ssl_wrap_socket_impl(sock, context, tls_in_tls)\n",
      "File \u001B[0;32m~/Documents/oneAPIproject/venv/lib/python3.10/site-packages/urllib3/util/ssl_.py:493\u001B[0m, in \u001B[0;36m_ssl_wrap_socket_impl\u001B[0;34m(sock, ssl_context, tls_in_tls, server_hostname)\u001B[0m\n\u001B[1;32m    490\u001B[0m     \u001B[38;5;28;01mreturn\u001B[39;00m SSLTransport(sock, ssl_context, server_hostname)\n\u001B[1;32m    492\u001B[0m \u001B[38;5;28;01mif\u001B[39;00m server_hostname:\n\u001B[0;32m--> 493\u001B[0m     \u001B[38;5;28;01mreturn\u001B[39;00m \u001B[43mssl_context\u001B[49m\u001B[38;5;241;43m.\u001B[39;49m\u001B[43mwrap_socket\u001B[49m\u001B[43m(\u001B[49m\u001B[43msock\u001B[49m\u001B[43m,\u001B[49m\u001B[43m \u001B[49m\u001B[43mserver_hostname\u001B[49m\u001B[38;5;241;43m=\u001B[39;49m\u001B[43mserver_hostname\u001B[49m\u001B[43m)\u001B[49m\n\u001B[1;32m    494\u001B[0m \u001B[38;5;28;01melse\u001B[39;00m:\n\u001B[1;32m    495\u001B[0m     \u001B[38;5;28;01mreturn\u001B[39;00m ssl_context\u001B[38;5;241m.\u001B[39mwrap_socket(sock)\n",
      "File \u001B[0;32m/usr/lib/python3.10/ssl.py:513\u001B[0m, in \u001B[0;36mSSLContext.wrap_socket\u001B[0;34m(self, sock, server_side, do_handshake_on_connect, suppress_ragged_eofs, server_hostname, session)\u001B[0m\n\u001B[1;32m    507\u001B[0m \u001B[38;5;28;01mdef\u001B[39;00m \u001B[38;5;21mwrap_socket\u001B[39m(\u001B[38;5;28mself\u001B[39m, sock, server_side\u001B[38;5;241m=\u001B[39m\u001B[38;5;28;01mFalse\u001B[39;00m,\n\u001B[1;32m    508\u001B[0m                 do_handshake_on_connect\u001B[38;5;241m=\u001B[39m\u001B[38;5;28;01mTrue\u001B[39;00m,\n\u001B[1;32m    509\u001B[0m                 suppress_ragged_eofs\u001B[38;5;241m=\u001B[39m\u001B[38;5;28;01mTrue\u001B[39;00m,\n\u001B[1;32m    510\u001B[0m                 server_hostname\u001B[38;5;241m=\u001B[39m\u001B[38;5;28;01mNone\u001B[39;00m, session\u001B[38;5;241m=\u001B[39m\u001B[38;5;28;01mNone\u001B[39;00m):\n\u001B[1;32m    511\u001B[0m     \u001B[38;5;66;03m# SSLSocket class handles server_hostname encoding before it calls\u001B[39;00m\n\u001B[1;32m    512\u001B[0m     \u001B[38;5;66;03m# ctx._wrap_socket()\u001B[39;00m\n\u001B[0;32m--> 513\u001B[0m     \u001B[38;5;28;01mreturn\u001B[39;00m \u001B[38;5;28;43mself\u001B[39;49m\u001B[38;5;241;43m.\u001B[39;49m\u001B[43msslsocket_class\u001B[49m\u001B[38;5;241;43m.\u001B[39;49m\u001B[43m_create\u001B[49m\u001B[43m(\u001B[49m\n\u001B[1;32m    514\u001B[0m \u001B[43m        \u001B[49m\u001B[43msock\u001B[49m\u001B[38;5;241;43m=\u001B[39;49m\u001B[43msock\u001B[49m\u001B[43m,\u001B[49m\n\u001B[1;32m    515\u001B[0m \u001B[43m        \u001B[49m\u001B[43mserver_side\u001B[49m\u001B[38;5;241;43m=\u001B[39;49m\u001B[43mserver_side\u001B[49m\u001B[43m,\u001B[49m\n\u001B[1;32m    516\u001B[0m \u001B[43m        \u001B[49m\u001B[43mdo_handshake_on_connect\u001B[49m\u001B[38;5;241;43m=\u001B[39;49m\u001B[43mdo_handshake_on_connect\u001B[49m\u001B[43m,\u001B[49m\n\u001B[1;32m    517\u001B[0m \u001B[43m        \u001B[49m\u001B[43msuppress_ragged_eofs\u001B[49m\u001B[38;5;241;43m=\u001B[39;49m\u001B[43msuppress_ragged_eofs\u001B[49m\u001B[43m,\u001B[49m\n\u001B[1;32m    518\u001B[0m \u001B[43m        \u001B[49m\u001B[43mserver_hostname\u001B[49m\u001B[38;5;241;43m=\u001B[39;49m\u001B[43mserver_hostname\u001B[49m\u001B[43m,\u001B[49m\n\u001B[1;32m    519\u001B[0m \u001B[43m        \u001B[49m\u001B[43mcontext\u001B[49m\u001B[38;5;241;43m=\u001B[39;49m\u001B[38;5;28;43mself\u001B[39;49m\u001B[43m,\u001B[49m\n\u001B[1;32m    520\u001B[0m \u001B[43m        \u001B[49m\u001B[43msession\u001B[49m\u001B[38;5;241;43m=\u001B[39;49m\u001B[43msession\u001B[49m\n\u001B[1;32m    521\u001B[0m \u001B[43m    \u001B[49m\u001B[43m)\u001B[49m\n",
      "File \u001B[0;32m/usr/lib/python3.10/ssl.py:1071\u001B[0m, in \u001B[0;36mSSLSocket._create\u001B[0;34m(cls, sock, server_side, do_handshake_on_connect, suppress_ragged_eofs, server_hostname, context, session)\u001B[0m\n\u001B[1;32m   1068\u001B[0m         \u001B[38;5;28;01mif\u001B[39;00m timeout \u001B[38;5;241m==\u001B[39m \u001B[38;5;241m0.0\u001B[39m:\n\u001B[1;32m   1069\u001B[0m             \u001B[38;5;66;03m# non-blocking\u001B[39;00m\n\u001B[1;32m   1070\u001B[0m             \u001B[38;5;28;01mraise\u001B[39;00m \u001B[38;5;167;01mValueError\u001B[39;00m(\u001B[38;5;124m\"\u001B[39m\u001B[38;5;124mdo_handshake_on_connect should not be specified for non-blocking sockets\u001B[39m\u001B[38;5;124m\"\u001B[39m)\n\u001B[0;32m-> 1071\u001B[0m         \u001B[38;5;28;43mself\u001B[39;49m\u001B[38;5;241;43m.\u001B[39;49m\u001B[43mdo_handshake\u001B[49m\u001B[43m(\u001B[49m\u001B[43m)\u001B[49m\n\u001B[1;32m   1072\u001B[0m \u001B[38;5;28;01mexcept\u001B[39;00m (\u001B[38;5;167;01mOSError\u001B[39;00m, \u001B[38;5;167;01mValueError\u001B[39;00m):\n\u001B[1;32m   1073\u001B[0m     \u001B[38;5;28mself\u001B[39m\u001B[38;5;241m.\u001B[39mclose()\n",
      "File \u001B[0;32m/usr/lib/python3.10/ssl.py:1342\u001B[0m, in \u001B[0;36mSSLSocket.do_handshake\u001B[0;34m(self, block)\u001B[0m\n\u001B[1;32m   1340\u001B[0m     \u001B[38;5;28;01mif\u001B[39;00m timeout \u001B[38;5;241m==\u001B[39m \u001B[38;5;241m0.0\u001B[39m \u001B[38;5;129;01mand\u001B[39;00m block:\n\u001B[1;32m   1341\u001B[0m         \u001B[38;5;28mself\u001B[39m\u001B[38;5;241m.\u001B[39msettimeout(\u001B[38;5;28;01mNone\u001B[39;00m)\n\u001B[0;32m-> 1342\u001B[0m     \u001B[38;5;28;43mself\u001B[39;49m\u001B[38;5;241;43m.\u001B[39;49m\u001B[43m_sslobj\u001B[49m\u001B[38;5;241;43m.\u001B[39;49m\u001B[43mdo_handshake\u001B[49m\u001B[43m(\u001B[49m\u001B[43m)\u001B[49m\n\u001B[1;32m   1343\u001B[0m \u001B[38;5;28;01mfinally\u001B[39;00m:\n\u001B[1;32m   1344\u001B[0m     \u001B[38;5;28mself\u001B[39m\u001B[38;5;241m.\u001B[39msettimeout(timeout)\n",
      "\u001B[0;31mKeyboardInterrupt\u001B[0m: "
     ]
    }
   ],
   "source": [
    "d = scrape.scrape()"
   ],
   "metadata": {
    "collapsed": false
   }
  },
  {
   "cell_type": "code",
   "execution_count": 3,
   "outputs": [
    {
     "data": {
      "text/plain": "26"
     },
     "execution_count": 3,
     "metadata": {},
     "output_type": "execute_result"
    }
   ],
   "source": [
    "d.keys().__len__()"
   ],
   "metadata": {
    "collapsed": false
   }
  },
  {
   "cell_type": "code",
   "execution_count": 4,
   "outputs": [
    {
     "data": {
      "text/plain": "50"
     },
     "execution_count": 4,
     "metadata": {},
     "output_type": "execute_result"
    }
   ],
   "source": [
    "d['SpiderID'].__len__()"
   ],
   "metadata": {
    "collapsed": false
   }
  },
  {
   "cell_type": "code",
   "execution_count": 7,
   "outputs": [
    {
     "data": {
      "text/plain": "dict_keys(['Role', 'Desired Industry', 'SpiderID', 'Desired Job Location', 'Date Posted', 'Type of Position', 'Availability Date', 'Desired Wage:', 'U.S. Work Authorization', 'Job Level', 'Willing to Travel:', 'Highest Degree Attained', 'Willing to Relocate', 'Objective', 'Experience', 'Education', 'Affiliations', 'Skills', 'Additional Information', 'Desired Wage', 'Willing to Travel', 'Availability Date:', 'U.S. Work Authorization:', 'Highest Degree Attained:', 'Willing to Relocate:', 'Reference'])"
     },
     "execution_count": 7,
     "metadata": {},
     "output_type": "execute_result"
    }
   ],
   "source": [
    "d.keys()"
   ],
   "metadata": {
    "collapsed": false
   }
  },
  {
   "cell_type": "code",
   "execution_count": 9,
   "outputs": [
    {
     "ename": "KeyError",
     "evalue": "'Relocate:'",
     "output_type": "error",
     "traceback": [
      "\u001B[0;31m---------------------------------------------------------------------------\u001B[0m",
      "\u001B[0;31mKeyError\u001B[0m                                  Traceback (most recent call last)",
      "Cell \u001B[0;32mIn [9], line 1\u001B[0m\n\u001B[0;32m----> 1\u001B[0m \u001B[43md\u001B[49m\u001B[43m[\u001B[49m\u001B[38;5;124;43m'\u001B[39;49m\u001B[38;5;124;43mRelocate:\u001B[39;49m\u001B[38;5;124;43m'\u001B[39;49m\u001B[43m]\u001B[49m\n",
      "\u001B[0;31mKeyError\u001B[0m: 'Relocate:'"
     ]
    }
   ],
   "source": [
    "d['Relocate:']"
   ],
   "metadata": {
    "collapsed": false
   }
  },
  {
   "cell_type": "code",
   "execution_count": null,
   "outputs": [],
   "source": [
    "import pandas as pd"
   ],
   "metadata": {
    "collapsed": false
   }
  },
  {
   "cell_type": "code",
   "execution_count": null,
   "outputs": [],
   "source": [
    "df = pd.DataFrame.from_dict(d, orient='index').T"
   ],
   "metadata": {
    "collapsed": false
   }
  },
  {
   "cell_type": "code",
   "execution_count": null,
   "outputs": [],
   "source": [
    "df.to_csv('resume_data_improved.csv')"
   ],
   "metadata": {
    "collapsed": false
   }
  },
  {
   "cell_type": "code",
   "execution_count": null,
   "outputs": [],
   "source": [
    "d.keys()"
   ],
   "metadata": {
    "collapsed": false
   }
  },
  {
   "cell_type": "code",
   "execution_count": null,
   "outputs": [],
   "source": [
    "df.info()"
   ],
   "metadata": {
    "collapsed": false
   }
  },
  {
   "cell_type": "code",
   "execution_count": null,
   "outputs": [],
   "source": [
    "df.nunique()"
   ],
   "metadata": {
    "collapsed": false
   }
  },
  {
   "cell_type": "code",
   "execution_count": null,
   "outputs": [],
   "source": [
    "df.shape"
   ],
   "metadata": {
    "collapsed": false
   }
  },
  {
   "cell_type": "code",
   "execution_count": null,
   "outputs": [],
   "source": [
    "df.drop"
   ],
   "metadata": {
    "collapsed": false
   }
  },
  {
   "cell_type": "code",
   "execution_count": null,
   "outputs": [],
   "source": [
    "df1 = pd.read_csv('resume_data.csv')"
   ],
   "metadata": {
    "collapsed": false
   }
  },
  {
   "cell_type": "code",
   "execution_count": null,
   "outputs": [],
   "source": [
    "df1['Industry'].nunique()"
   ],
   "metadata": {
    "collapsed": false
   }
  },
  {
   "cell_type": "code",
   "execution_count": null,
   "outputs": [],
   "source": [
    "df.isnull().sum() / df.shape[0]"
   ],
   "metadata": {
    "collapsed": false
   }
  },
  {
   "cell_type": "code",
   "execution_count": null,
   "outputs": [],
   "source": [
    "df = pd.read_csv('resume_data_improved.csv')"
   ],
   "metadata": {
    "collapsed": false
   }
  },
  {
   "cell_type": "code",
   "execution_count": null,
   "outputs": [],
   "source": [
    "df.isnull().sum() / df.shape[0]"
   ],
   "metadata": {
    "collapsed": false
   }
  },
  {
   "cell_type": "code",
   "execution_count": null,
   "outputs": [],
   "source": [],
   "metadata": {
    "collapsed": false
   }
  }
 ],
 "metadata": {
  "kernelspec": {
   "display_name": "Python 3",
   "language": "python",
   "name": "python3"
  },
  "language_info": {
   "codemirror_mode": {
    "name": "ipython",
    "version": 2
   },
   "file_extension": ".py",
   "mimetype": "text/x-python",
   "name": "python",
   "nbconvert_exporter": "python",
   "pygments_lexer": "ipython2",
   "version": "2.7.6"
  }
 },
 "nbformat": 4,
 "nbformat_minor": 0
}
