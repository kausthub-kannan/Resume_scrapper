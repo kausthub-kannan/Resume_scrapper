{
 "cells": [
  {
   "cell_type": "code",
   "execution_count": null,
   "outputs": [],
   "source": [
    "# df1 = pd.read_csv('resume_data_improved.csv')\n",
    "# df2 = pd.read_csv('resume_data_developer.csv')\n",
    "# pattern = \"resume_data\"\n",
    "# files = [f for f in os.listdir(directory) if os.path.isfile(os.path.join(directory, f)) and f.startswith(pattern)]\n",
    "# df_full = [pd.read_csv(csv) for csv in files]\n",
    "# df = pd.concat(df_full, axis=0, ignore_index=True).drop_duplicates()\n",
    "# df.shape"
   ],
   "metadata": {
    "collapsed": false
   }
  },
  {
   "cell_type": "code",
   "execution_count": null,
   "outputs": [],
   "source": [
    "df.head()"
   ],
   "metadata": {
    "collapsed": false
   }
  },
  {
   "cell_type": "code",
   "execution_count": null,
   "outputs": [],
   "source": [
    "# df = pd.concat([df1, df2], axis=0).drop_duplicates()"
   ],
   "metadata": {
    "collapsed": false
   }
  },
  {
   "cell_type": "code",
   "execution_count": null,
   "outputs": [],
   "source": [
    "df.isnull().sum() / df.shape[0] * 100"
   ],
   "metadata": {
    "collapsed": false
   }
  },
  {
   "cell_type": "code",
   "execution_count": null,
   "outputs": [],
   "source": [
    "df.info()"
   ],
   "metadata": {
    "collapsed": false
   }
  },
  {
   "cell_type": "code",
   "execution_count": null,
   "outputs": [],
   "source": [
    "df = df.drop(['Availability Date', 'Date Posted', 'Unnamed: 0', 'Reference'], axis=1)"
   ],
   "metadata": {
    "collapsed": false
   }
  },
  {
   "cell_type": "code",
   "execution_count": null,
   "outputs": [],
   "source": [
    "df.shape"
   ],
   "metadata": {
    "collapsed": false
   }
  },
  {
   "cell_type": "code",
   "execution_count": null,
   "outputs": [],
   "source": [
    "df.nunique()"
   ],
   "metadata": {
    "collapsed": false
   }
  },
  {
   "cell_type": "code",
   "execution_count": null,
   "outputs": [],
   "source": [
    "df[['Willing to Relocate', 'U.S. Work Authorization', 'Willing to Travel']].value_counts()"
   ],
   "metadata": {
    "collapsed": false
   }
  },
  {
   "cell_type": "code",
   "execution_count": null,
   "outputs": [],
   "source": [
    "# FEATURE PREPROCESSING\n",
    "import numpy as np, re\n",
    "df['Willing to Relocate'] = df['Willing to Relocate'].map({'No': 'no', 'Yes': 'yes'})\n",
    "df.loc[df['U.S. Work Authorization'] == 'Other', 'U.S. Work Authorization'] = np.nan"
   ],
   "metadata": {
    "collapsed": false
   }
  },
  {
   "cell_type": "code",
   "execution_count": null,
   "outputs": [],
   "source": [
    "def myfunc(a):\n",
    "\n",
    "    if a is np.nan:\n",
    "        return np.nan\n",
    "    res = re.search(r'([0-9]+-)*[0-9]+%$', a)\n",
    "    if res and res.group() in ['50-75%', '25%', '25-50%', '75%']:\n",
    "        return res.group()[:-1]\n",
    "    else:\n",
    "        return a\n",
    "\n",
    "df['Willing to Travel'] = df['Willing to Travel'].apply(myfunc)\n",
    "df['Willing to Travel'] = df['Willing to Travel'].map({'50-75': 0.625, 'No': 0, '25': 0.25, '25-50': 0.375})"
   ],
   "metadata": {
    "collapsed": false
   }
  },
  {
   "cell_type": "code",
   "execution_count": null,
   "outputs": [],
   "source": [
    "df.info()"
   ],
   "metadata": {
    "collapsed": false
   }
  },
  {
   "cell_type": "code",
   "execution_count": null,
   "outputs": [],
   "source": [
    "df['Desired Industry'].value_counts().sort_values(ascending=False)"
   ],
   "metadata": {
    "collapsed": false
   }
  },
  {
   "cell_type": "code",
   "execution_count": null,
   "outputs": [],
   "source": [
    "df['Role'].sort_values().unique()"
   ],
   "metadata": {
    "collapsed": false
   }
  },
  {
   "cell_type": "markdown",
   "source": [
    "# START FROM HERE"
   ],
   "metadata": {
    "collapsed": false
   }
  },
  {
   "cell_type": "code",
   "execution_count": 18,
   "outputs": [],
   "source": [
    "import re, numpy as np\n",
    "import os, pandas as pd\n",
    "directory = os.path.join(os.getcwd())\n",
    "files = [f for f in os.listdir(directory) if os.path.isfile(os.path.join(directory, f)) and re.search(r'category_[0-9]+', f)]"
   ],
   "metadata": {
    "collapsed": false
   }
  },
  {
   "cell_type": "code",
   "execution_count": 19,
   "outputs": [],
   "source": [
    "df2 = pd.concat([pd.read_csv(csv) for csv in files], axis=0, ignore_index=True).drop_duplicates()"
   ],
   "metadata": {
    "collapsed": false
   }
  },
  {
   "cell_type": "code",
   "execution_count": 20,
   "outputs": [
    {
     "data": {
      "text/plain": "Engineering                       1500\nInformation Technology            1500\nAccounting/Bookkeeping            1500\nBusiness/Management               1500\nFinance/Investment                1276\nComputer Software/Programming     1057\nBanking/Mortgage                  1007\nGraphics Design/Commercial Art     604\nCAD/Drafting                       556\nAutomotive/Mechanic                483\nComputer Hardware                  330\nQuality Control                    289\nPublic Relations                   227\nName: Desired Industry, dtype: int64"
     },
     "execution_count": 20,
     "metadata": {},
     "output_type": "execute_result"
    }
   ],
   "source": [
    "df2['Desired Industry'].value_counts()"
   ],
   "metadata": {
    "collapsed": false
   }
  },
  {
   "cell_type": "code",
   "execution_count": 21,
   "outputs": [],
   "source": [
    "df2 = df2.drop(['Availability Date', 'Date Posted', 'Unnamed: 0', 'Reference', 'Affiliations', 'Additional Information'], axis=1)"
   ],
   "metadata": {
    "collapsed": false
   }
  },
  {
   "cell_type": "code",
   "execution_count": 22,
   "outputs": [
    {
     "data": {
      "text/plain": "(11829, 15)"
     },
     "execution_count": 22,
     "metadata": {},
     "output_type": "execute_result"
    }
   ],
   "source": [
    "df2.shape"
   ],
   "metadata": {
    "collapsed": false
   }
  },
  {
   "cell_type": "code",
   "execution_count": 37,
   "outputs": [],
   "source": [
    "\n",
    "attr = ['Skills', 'Objective', 'Education', 'Experience']\n",
    "for col in attr:\n",
    "    df2[col] = df2[col].apply(lambda x: str(x).encode('ascii', errors='ignore').decode().strip())\n",
    "    df2[col] = df2[col].replace(r'^[-=]+[-=]$', np.nan ,  regex=True)\n",
    "    df2[col] = df2[col].replace(['nan', 'non'], np.nan)\n",
    "    df2[col] = df2[col].str.replace('\\t', '')\n",
    "    df2[col] = df2[col].str.replace('\\n', '.')"
   ],
   "metadata": {
    "collapsed": false
   }
  },
  {
   "cell_type": "code",
   "execution_count": 36,
   "outputs": [
    {
     "data": {
      "text/plain": "0        Bachelor of Arts in Geosciences  University of...\n1        Philippines Licensed Mechanical Engineer with ...\n2        Bachelor of Technology in Mechanichal Engineer...\n3        Bachelor of Engineering Mechanical Engineering...\n4        Hands-on, analytical, and solutions-focused pr...\n                               ...                        \n11824                                                  NaN\n11825                                                  NaN\n11826                                                  NaN\n11827                                                  NaN\n11828                                                  NaN\nName: Education, Length: 11829, dtype: object"
     },
     "execution_count": 36,
     "metadata": {},
     "output_type": "execute_result"
    }
   ],
   "source": [],
   "metadata": {
    "collapsed": false
   }
  },
  {
   "cell_type": "code",
   "execution_count": null,
   "outputs": [],
   "source": [
    "df2.columns"
   ],
   "metadata": {
    "collapsed": false
   }
  },
  {
   "cell_type": "code",
   "execution_count": null,
   "outputs": [],
   "source": [
    "df2['Desired Industry'].value_counts()"
   ],
   "metadata": {
    "collapsed": false
   }
  },
  {
   "cell_type": "code",
   "execution_count": null,
   "outputs": [],
   "source": [
    "df2.Skills"
   ],
   "metadata": {
    "collapsed": false
   }
  },
  {
   "cell_type": "code",
   "execution_count": null,
   "outputs": [],
   "source": [
    "df2.shape"
   ],
   "metadata": {
    "collapsed": false
   }
  },
  {
   "cell_type": "code",
   "execution_count": 46,
   "outputs": [],
   "source": [
    "df2 = df2.fillna('')"
   ],
   "metadata": {
    "collapsed": false
   }
  },
  {
   "cell_type": "code",
   "execution_count": null,
   "outputs": [],
   "source": [
    "# df2.to_csv('data.csv')"
   ],
   "metadata": {
    "collapsed": false
   }
  },
  {
   "cell_type": "code",
   "execution_count": null,
   "outputs": [],
   "source": [
    "df['Skills'] + ' '+ df['Objective']"
   ],
   "metadata": {
    "collapsed": false
   }
  },
  {
   "cell_type": "code",
   "execution_count": 47,
   "outputs": [
    {
     "data": {
      "text/plain": "Role                       0\nDesired Industry           0\nSpiderID                   0\nDesired Job Location       0\nType of Position           0\nDesired Wage               0\nU.S. Work Authorization    0\nJob Level                  0\nWilling to Travel          0\nHighest Degree Attained    0\nWilling to Relocate        0\nObjective                  0\nExperience                 0\nEducation                  0\nSkills                     0\ndtype: int64"
     },
     "execution_count": 47,
     "metadata": {},
     "output_type": "execute_result"
    }
   ],
   "source": [
    "df2.isnull().sum()"
   ],
   "metadata": {
    "collapsed": false
   }
  },
  {
   "cell_type": "markdown",
   "source": [
    "# **NLP PART**"
   ],
   "metadata": {
    "collapsed": false
   }
  },
  {
   "cell_type": "code",
   "execution_count": null,
   "outputs": [],
   "source": [
    "import spacy"
   ],
   "metadata": {
    "collapsed": false,
    "pycharm": {
     "is_executing": true
    }
   }
  },
  {
   "cell_type": "code",
   "execution_count": 49,
   "outputs": [],
   "source": [
    "nlp = spacy.load('en_core_web_sm')"
   ],
   "metadata": {
    "collapsed": false
   }
  },
  {
   "cell_type": "code",
   "execution_count": 50,
   "outputs": [],
   "source": [
    "df_copy = df2.copy()"
   ],
   "metadata": {
    "collapsed": false
   }
  },
  {
   "cell_type": "code",
   "execution_count": 42,
   "outputs": [],
   "source": [
    "def preprocess_doc(doc):\n",
    "    # Tokenize the document\n",
    "    # tokens = [token.text for token in doc]\n",
    "\n",
    "    # Remove stop words\n",
    "    tokens = [token for token in doc if not token.is_stop]\n",
    "\n",
    "    # Lemmatize the tokens\n",
    "    tokens = [token.lemma_ for token in doc]\n",
    "\n",
    "    # Join the tokens back into a single string\n",
    "    preprocessed_doc = ' '.join(tokens)\n",
    "\n",
    "    return preprocessed_doc"
   ],
   "metadata": {
    "collapsed": false
   }
  },
  {
   "cell_type": "code",
   "execution_count": null,
   "outputs": [],
   "source": [
    "for col in ['Skills', 'Objective', 'Education', 'Experience']:\n",
    "    df_copy[col] = df_copy[col].apply(lambda x: preprocess_doc(nlp(x)))"
   ],
   "metadata": {
    "collapsed": false,
    "pycharm": {
     "is_executing": true
    }
   }
  },
  {
   "cell_type": "code",
   "execution_count": null,
   "outputs": [],
   "source": [
    "df_copy['Skills2'] = df_copy['Skills'].apply(lambda x: nlp(x))"
   ],
   "metadata": {
    "collapsed": false
   }
  },
  {
   "cell_type": "code",
   "execution_count": null,
   "outputs": [],
   "source": [
    "df_copy['Skills2']"
   ],
   "metadata": {
    "collapsed": false
   }
  },
  {
   "cell_type": "code",
   "execution_count": null,
   "outputs": [],
   "source": [
    "doc = preprocess_doc(nlp(df_copy.loc[3, 'Experience']))"
   ],
   "metadata": {
    "collapsed": false
   }
  },
  {
   "cell_type": "code",
   "execution_count": null,
   "outputs": [],
   "source": [
    "doc"
   ],
   "metadata": {
    "collapsed": false
   }
  },
  {
   "cell_type": "code",
   "execution_count": null,
   "outputs": [],
   "source": [],
   "metadata": {
    "collapsed": false
   }
  }
 ],
 "metadata": {
  "kernelspec": {
   "display_name": "Python 3",
   "language": "python",
   "name": "python3"
  },
  "language_info": {
   "codemirror_mode": {
    "name": "ipython",
    "version": 2
   },
   "file_extension": ".py",
   "mimetype": "text/x-python",
   "name": "python",
   "nbconvert_exporter": "python",
   "pygments_lexer": "ipython2",
   "version": "2.7.6"
  }
 },
 "nbformat": 4,
 "nbformat_minor": 0
}
