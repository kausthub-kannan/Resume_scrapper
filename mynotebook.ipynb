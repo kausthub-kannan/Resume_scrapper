{
 "cells": [
  {
   "cell_type": "code",
   "execution_count": 2,
   "outputs": [
    {
     "data": {
      "text/plain": "(16328, 21)"
     },
     "execution_count": 2,
     "metadata": {},
     "output_type": "execute_result"
    }
   ],
   "source": [
    "# df1 = pd.read_csv('resume_data_improved.csv')\n",
    "# df2 = pd.read_csv('resume_data_developer.csv')\n",
    "# pattern = \"resume_data\"\n",
    "# files = [f for f in os.listdir(directory) if os.path.isfile(os.path.join(directory, f)) and f.startswith(pattern)]\n",
    "# df_full = [pd.read_csv(csv) for csv in files]\n",
    "# df = pd.concat(df_full, axis=0, ignore_index=True).drop_duplicates()\n",
    "# df.shape"
   ],
   "metadata": {
    "collapsed": false
   }
  },
  {
   "cell_type": "code",
   "execution_count": null,
   "outputs": [],
   "source": [
    "df.head()"
   ],
   "metadata": {
    "collapsed": false
   }
  },
  {
   "cell_type": "code",
   "execution_count": null,
   "outputs": [],
   "source": [
    "# df = pd.concat([df1, df2], axis=0).drop_duplicates()"
   ],
   "metadata": {
    "collapsed": false
   }
  },
  {
   "cell_type": "code",
   "execution_count": null,
   "outputs": [],
   "source": [
    "df.isnull().sum() / df.shape[0] * 100"
   ],
   "metadata": {
    "collapsed": false
   }
  },
  {
   "cell_type": "code",
   "execution_count": null,
   "outputs": [],
   "source": [
    "df.info()"
   ],
   "metadata": {
    "collapsed": false
   }
  },
  {
   "cell_type": "code",
   "execution_count": null,
   "outputs": [],
   "source": [
    "df = df.drop(['Availability Date', 'Date Posted', 'Unnamed: 0', 'Reference'], axis=1)"
   ],
   "metadata": {
    "collapsed": false
   }
  },
  {
   "cell_type": "code",
   "execution_count": null,
   "outputs": [],
   "source": [
    "df.shape"
   ],
   "metadata": {
    "collapsed": false
   }
  },
  {
   "cell_type": "code",
   "execution_count": null,
   "outputs": [],
   "source": [
    "df.nunique()"
   ],
   "metadata": {
    "collapsed": false
   }
  },
  {
   "cell_type": "code",
   "execution_count": null,
   "outputs": [],
   "source": [
    "df[['Willing to Relocate', 'U.S. Work Authorization', 'Willing to Travel']].value_counts()"
   ],
   "metadata": {
    "collapsed": false
   }
  },
  {
   "cell_type": "code",
   "execution_count": 33,
   "outputs": [],
   "source": [
    "# FEATURE PREPROCESSING\n",
    "import numpy as np, re\n",
    "df['Willing to Relocate'] = df['Willing to Relocate'].map({'No': 'no', 'Yes': 'yes'})\n",
    "df.loc[df['U.S. Work Authorization'] == 'Other', 'U.S. Work Authorization'] = np.nan"
   ],
   "metadata": {
    "collapsed": false
   }
  },
  {
   "cell_type": "code",
   "execution_count": null,
   "outputs": [],
   "source": [
    "def myfunc(a):\n",
    "\n",
    "    if a is np.nan:\n",
    "        return np.nan\n",
    "    res = re.search(r'([0-9]+-)*[0-9]+%$', a)\n",
    "    if res and res.group() in ['50-75%', '25%', '25-50%', '75%']:\n",
    "        return res.group()[:-1]\n",
    "    else:\n",
    "        return a\n",
    "\n",
    "df['Willing to Travel'] = df['Willing to Travel'].apply(myfunc)\n",
    "df['Willing to Travel'] = df['Willing to Travel'].map({'50-75': 0.625, 'No': 0, '25': 0.25, '25-50': 0.375})"
   ],
   "metadata": {
    "collapsed": false
   }
  },
  {
   "cell_type": "code",
   "execution_count": null,
   "outputs": [],
   "source": [
    "df.info()"
   ],
   "metadata": {
    "collapsed": false
   }
  },
  {
   "cell_type": "code",
   "execution_count": null,
   "outputs": [],
   "source": [
    "df['Desired Industry'].value_counts().sort_values(ascending=False)"
   ],
   "metadata": {
    "collapsed": false
   }
  },
  {
   "cell_type": "code",
   "execution_count": null,
   "outputs": [],
   "source": [
    "df['Role'].sort_values().unique()"
   ],
   "metadata": {
    "collapsed": false
   }
  },
  {
   "cell_type": "markdown",
   "source": [
    "# START FROM HERE"
   ],
   "metadata": {
    "collapsed": false
   }
  },
  {
   "cell_type": "code",
   "execution_count": 3,
   "outputs": [],
   "source": [
    "import re\n",
    "import os, pandas as pd\n",
    "directory = os.path.join(os.getcwd())\n",
    "files = [f for f in os.listdir(directory) if os.path.isfile(os.path.join(directory, f)) and re.search(r'category_[0-9]+', f)]"
   ],
   "metadata": {
    "collapsed": false
   }
  },
  {
   "cell_type": "code",
   "execution_count": 4,
   "outputs": [],
   "source": [
    "df2 = pd.concat([pd.read_csv(csv) for csv in files], axis=0, ignore_index=True).drop_duplicates()"
   ],
   "metadata": {
    "collapsed": false
   }
  },
  {
   "cell_type": "code",
   "execution_count": 5,
   "outputs": [
    {
     "data": {
      "text/plain": "Engineering                       1500\nInformation Technology            1500\nAccounting/Bookkeeping            1500\nBusiness/Management               1500\nFinance/Investment                1276\nComputer Software/Programming     1057\nBanking/Mortgage                  1007\nGraphics Design/Commercial Art     604\nCAD/Drafting                       556\nAutomotive/Mechanic                483\nComputer Hardware                  330\nQuality Control                    289\nPublic Relations                   227\nName: Desired Industry, dtype: int64"
     },
     "execution_count": 5,
     "metadata": {},
     "output_type": "execute_result"
    }
   ],
   "source": [
    "df2['Desired Industry'].value_counts()"
   ],
   "metadata": {
    "collapsed": false
   }
  },
  {
   "cell_type": "code",
   "execution_count": 6,
   "outputs": [],
   "source": [
    "df2 = df2.drop(['Availability Date', 'Date Posted', 'Unnamed: 0', 'Reference', 'Affiliations'], axis=1)"
   ],
   "metadata": {
    "collapsed": false
   }
  },
  {
   "cell_type": "code",
   "execution_count": 7,
   "outputs": [
    {
     "data": {
      "text/plain": "(11829, 16)"
     },
     "execution_count": 7,
     "metadata": {},
     "output_type": "execute_result"
    }
   ],
   "source": [
    "df2.shape"
   ],
   "metadata": {
    "collapsed": false
   }
  },
  {
   "cell_type": "code",
   "execution_count": 34,
   "outputs": [],
   "source": [
    "\n",
    "attr = ['Skills', 'Objective', 'Education', 'Experience', 'Additional Information']\n",
    "for col in attr:\n",
    "    df2[col] = df2[col].apply(lambda x: str(x).encode('ascii', errors='ignore').decode().strip())\n",
    "    df2[col] = df2[col].replace(r'^[-=]+[-=]$', np.nan ,  regex=True)\n",
    "    df2[col] = df2[col].replace(['nan', 'non'], np.nan)"
   ],
   "metadata": {
    "collapsed": false
   }
  },
  {
   "cell_type": "code",
   "execution_count": 9,
   "outputs": [
    {
     "data": {
      "text/plain": "Index(['Role', 'Desired Industry', 'SpiderID', 'Desired Job Location',\n       'Type of Position', 'Desired Wage', 'U.S. Work Authorization',\n       'Job Level', 'Willing to Travel', 'Highest Degree Attained',\n       'Willing to Relocate', 'Objective', 'Experience', 'Education', 'Skills',\n       'Additional Information'],\n      dtype='object')"
     },
     "execution_count": 9,
     "metadata": {},
     "output_type": "execute_result"
    }
   ],
   "source": [
    "df2.columns"
   ],
   "metadata": {
    "collapsed": false
   }
  },
  {
   "cell_type": "code",
   "execution_count": 16,
   "outputs": [
    {
     "data": {
      "text/plain": "2810"
     },
     "execution_count": 16,
     "metadata": {},
     "output_type": "execute_result"
    }
   ],
   "source": [
    "sum(df2.Objective == 'nan')"
   ],
   "metadata": {
    "collapsed": false
   }
  },
  {
   "cell_type": "code",
   "execution_count": 17,
   "outputs": [
    {
     "data": {
      "text/plain": "Engineering                       1500\nInformation Technology            1500\nAccounting/Bookkeeping            1500\nBusiness/Management               1500\nFinance/Investment                1276\nComputer Software/Programming     1057\nBanking/Mortgage                  1007\nGraphics Design/Commercial Art     604\nCAD/Drafting                       556\nAutomotive/Mechanic                483\nComputer Hardware                  330\nQuality Control                    289\nPublic Relations                   227\nName: Desired Industry, dtype: int64"
     },
     "execution_count": 17,
     "metadata": {},
     "output_type": "execute_result"
    }
   ],
   "source": [
    "df2['Desired Industry'].value_counts()"
   ],
   "metadata": {
    "collapsed": false
   }
  },
  {
   "cell_type": "code",
   "execution_count": 22,
   "outputs": [
    {
     "data": {
      "text/plain": "0"
     },
     "execution_count": 22,
     "metadata": {},
     "output_type": "execute_result"
    }
   ],
   "source": [
    "sum(df.Skills == 'nan')"
   ],
   "metadata": {
    "collapsed": false
   }
  },
  {
   "cell_type": "code",
   "execution_count": 23,
   "outputs": [
    {
     "data": {
      "text/plain": "0        Preventive Maintenance\\nProcess Improvement\\nC...\n1                                                     java\n2        Expert in reviewing mechanical site design dra...\n3                   Mechanichal Engineering + Mechatronics\n4        Leadership Role: HKIE Student Chapters Committ...\n                               ...                        \n11824                                                  nan\n11825                                                  nan\n11826                                                  nan\n11827                                                  nan\n11828                                                  nan\nName: Skills, Length: 11829, dtype: object"
     },
     "execution_count": 23,
     "metadata": {},
     "output_type": "execute_result"
    }
   ],
   "source": [
    "df2.Skills"
   ],
   "metadata": {
    "collapsed": false
   }
  },
  {
   "cell_type": "code",
   "execution_count": 31,
   "outputs": [
    {
     "data": {
      "text/plain": "3625"
     },
     "execution_count": 31,
     "metadata": {},
     "output_type": "execute_result"
    }
   ],
   "source": [
    "sum(df2['Skills'] == 'nan')"
   ],
   "metadata": {
    "collapsed": false
   }
  },
  {
   "cell_type": "code",
   "execution_count": 35,
   "outputs": [
    {
     "data": {
      "text/plain": "Role                          0\nDesired Industry              0\nSpiderID                      0\nDesired Job Location          0\nType of Position              0\nDesired Wage               4434\nU.S. Work Authorization    1686\nJob Level                     0\nWilling to Travel          3130\nHighest Degree Attained    1712\nWilling to Relocate        1649\nObjective                  2832\nExperience                 2444\nEducation                  2987\nSkills                     3857\nAdditional Information     7405\ndtype: int64"
     },
     "execution_count": 35,
     "metadata": {},
     "output_type": "execute_result"
    }
   ],
   "source": [
    "df2.isnull().sum()"
   ],
   "metadata": {
    "collapsed": false
   }
  },
  {
   "cell_type": "code",
   "execution_count": 36,
   "outputs": [
    {
     "data": {
      "text/plain": "(11829, 16)"
     },
     "execution_count": 36,
     "metadata": {},
     "output_type": "execute_result"
    }
   ],
   "source": [
    "df2.shape"
   ],
   "metadata": {
    "collapsed": false
   }
  },
  {
   "cell_type": "code",
   "execution_count": 40,
   "outputs": [],
   "source": [
    "df2 = df2.drop('Additional Information', axis=1)"
   ],
   "metadata": {
    "collapsed": false
   }
  },
  {
   "cell_type": "code",
   "execution_count": 43,
   "outputs": [
    {
     "data": {
      "text/plain": "                                                   Role     Desired Industry  \\\n0             Director of Maintenance Operations Resume          Engineering   \n5      Telecommunications Electronics Technician Resume          Engineering   \n6                           Electrical Engineer  Resume          Engineering   \n7                                     IT Manager Resume          Engineering   \n8        Jobspider, Senior Mems Process Engineer Resume          Engineering   \n...                                                 ...                  ...   \n11225                                   Director Resume  Business/Management   \n11227                               office/clerk Resume  Business/Management   \n11229                            MGMT/MKTG/Sales Resume  Business/Management   \n11231                       Construction Manager Resume  Business/Management   \n11233                             administrative Resume  Business/Management   \n\n       SpiderID          Desired Job Location     Type of Position  \\\n0         83950    Wilmington, North Carolina  Full-Time Permanent   \n5         83775            EGLIN AFB, Florida  Full-Time Permanent   \n6         83756            Etobicoke, Ontario  Full-Time Permanent   \n7         83750  Thompsons Station, Tennessee  Full-Time Permanent   \n8         83740             Chandler, Arizona  Full-Time Permanent   \n...         ...                           ...                  ...   \n11225     46551                  Boise, Idaho  Full-Time Permanent   \n11227     46497             Chicago, Illinois  Full-Time Permanent   \n11229     46468   Mechanicsburg, Pennsylvania           Contractor   \n11231     46362          Temecula, California  Full-Time Permanent   \n11233     46323                 Mesa, Arizona  Full-Time Permanent   \n\n             Desired Wage U.S. Work Authorization  \\\n0                  115000                     Yes   \n5                  90,000                     Yes   \n6                   50000                      No   \n7                $145,000                     Yes   \n8                   $120K                      No   \n...                   ...                     ...   \n11225          80k Annual                     Yes   \n11227               18.00                     Yes   \n11229  $13,000+ part time                     Yes   \n11231                90 k                     Yes   \n11233               15.00                     Yes   \n\n                                      Job Level   Willing to Travel  \\\n0                Management (Manager, Director)  Yes, Less Than 25%   \n5                Management (Manager, Director)  Yes, Less Than 25%   \n6                          New Grad/Entry Level  Yes, Less Than 25%   \n7                Management (Manager, Director)                  No   \n8      Experienced with over 2 years experience  Yes, Less Than 25%   \n...                                         ...                 ...   \n11225            Management (Manager, Director)         Yes, 50-75%   \n11227                      New Grad/Entry Level                  No   \n11229                      New Grad/Entry Level                  No   \n11231            Management (Manager, Director)  Yes, Less Than 25%   \n11233  Experienced with over 2 years experience                  No   \n\n      Highest Degree Attained Willing to Relocate  \\\n0                   Bachelors                 Yes   \n5                   Bachelors                 Yes   \n6                     Masters                 Yes   \n7                   Bachelors                  No   \n8                   Bachelors                  No   \n...                       ...                 ...   \n11225                 Masters                 Yes   \n11227                   Other                  No   \n11229                   Other                  No   \n11231                   Other           Undecided   \n11233  High School/Equivalent                  No   \n\n                                               Objective  \\\n0      Skilled in carrying out preventative, correcti...   \n5      Success-driven and multifaceted professional, ...   \n6      I believe that my skill and interested in\\nSys...   \n7      Highly experienced and solutions-oriented prof...   \n8      Extensive experience in the semi-conductor ind...   \n...                                                  ...   \n11225  Results-Focused Leader with Success in Leading...   \n11227  Multi-functional executive with over 18 years ...   \n11229  I am seeking stable employment in a challengin...   \n11231  Contribute 20+ years corporate leadership to a...   \n11233  Actively seeking a position as a\\n HUMAN RESOU...   \n\n                                              Experience  \\\n0      Metro Ports, Wilmington, NC\\nMaintenance Manag...   \n5      EXPERIENCE: Twenty-two years (+) product devel...   \n6      BENJAMIN ABRAHAM CONSULTING, AMERICUS, GA\\nBus...   \n7      Professional Experience\\nForeign Currency -Mai...   \n8      Professional Experience\\nTWE Nonwovens | Fort ...   \n...                                                  ...   \n11225  Poseidon Infosoft is a one stop solutions for ...   \n11227  EMPLOYMENT HISTORY:\\nJuly 2008  present\\t\\t\\t\\...   \n11229  District of Columbia Office of Tax and Revenue...   \n11231  The Job involves posting of business ads on va...   \n11233  5/06 to Present  -  Alluvium, L.L.C.  -  Manag...   \n\n                                               Education  \\\n0      Bachelor of Arts in Geosciences  University of...   \n5      University of Windsor Master's in Electrical a...   \n6      EDUCATION: LaVerne University, B.S. in Physics...   \n7      Bachelor of Science in Construction Management...   \n8      Data Science Certificate \\t\\t                 ...   \n...                                                  ...   \n11225  Education\\n M.B.A., University of Phoenix (200...   \n11227  University of California, San Diego\\nMasters P...   \n11229  MBA, University of Phoenix\\nBA, Criminal Justi...   \n11231  University of Missouri  St. Louis\\nCompleted D...   \n11233  TUI UNIVERSITY\\nMasters of Business Administra...   \n\n                                                  Skills  \n0      Preventive Maintenance\\nProcess Improvement\\nC...  \n5      Hands-on, analytical, and solutions-focused pr...  \n6      Auto-CAD Electrical for designing power and co...  \n7      ACHIEVEMENTS:\\nU.S. PATENT:  Patent no.4,907,1...  \n8      QCS/RMS Software | Microsoft Office Applicatio...  \n...                                                  ...  \n11225  Type 60+ wpm,  excellent accounting skills, at...  \n11227  EXECUTIVE ADMINISTRATIVE ASSISTANT\\nHighly org...  \n11229  Thorough knowledge of Matlab, PSpice, Protel, ...  \n11231          Microsoft Office, Word Perfect, Internet.  \n11233  Offshore strategy development\\nProject Managem...  \n\n[3813 rows x 15 columns]",
      "text/html": "<div>\n<style scoped>\n    .dataframe tbody tr th:only-of-type {\n        vertical-align: middle;\n    }\n\n    .dataframe tbody tr th {\n        vertical-align: top;\n    }\n\n    .dataframe thead th {\n        text-align: right;\n    }\n</style>\n<table border=\"1\" class=\"dataframe\">\n  <thead>\n    <tr style=\"text-align: right;\">\n      <th></th>\n      <th>Role</th>\n      <th>Desired Industry</th>\n      <th>SpiderID</th>\n      <th>Desired Job Location</th>\n      <th>Type of Position</th>\n      <th>Desired Wage</th>\n      <th>U.S. Work Authorization</th>\n      <th>Job Level</th>\n      <th>Willing to Travel</th>\n      <th>Highest Degree Attained</th>\n      <th>Willing to Relocate</th>\n      <th>Objective</th>\n      <th>Experience</th>\n      <th>Education</th>\n      <th>Skills</th>\n    </tr>\n  </thead>\n  <tbody>\n    <tr>\n      <th>0</th>\n      <td>Director of Maintenance Operations Resume</td>\n      <td>Engineering</td>\n      <td>83950</td>\n      <td>Wilmington, North Carolina</td>\n      <td>Full-Time Permanent</td>\n      <td>115000</td>\n      <td>Yes</td>\n      <td>Management (Manager, Director)</td>\n      <td>Yes, Less Than 25%</td>\n      <td>Bachelors</td>\n      <td>Yes</td>\n      <td>Skilled in carrying out preventative, correcti...</td>\n      <td>Metro Ports, Wilmington, NC\\nMaintenance Manag...</td>\n      <td>Bachelor of Arts in Geosciences  University of...</td>\n      <td>Preventive Maintenance\\nProcess Improvement\\nC...</td>\n    </tr>\n    <tr>\n      <th>5</th>\n      <td>Telecommunications Electronics Technician Resume</td>\n      <td>Engineering</td>\n      <td>83775</td>\n      <td>EGLIN AFB, Florida</td>\n      <td>Full-Time Permanent</td>\n      <td>90,000</td>\n      <td>Yes</td>\n      <td>Management (Manager, Director)</td>\n      <td>Yes, Less Than 25%</td>\n      <td>Bachelors</td>\n      <td>Yes</td>\n      <td>Success-driven and multifaceted professional, ...</td>\n      <td>EXPERIENCE: Twenty-two years (+) product devel...</td>\n      <td>University of Windsor Master's in Electrical a...</td>\n      <td>Hands-on, analytical, and solutions-focused pr...</td>\n    </tr>\n    <tr>\n      <th>6</th>\n      <td>Electrical Engineer  Resume</td>\n      <td>Engineering</td>\n      <td>83756</td>\n      <td>Etobicoke, Ontario</td>\n      <td>Full-Time Permanent</td>\n      <td>50000</td>\n      <td>No</td>\n      <td>New Grad/Entry Level</td>\n      <td>Yes, Less Than 25%</td>\n      <td>Masters</td>\n      <td>Yes</td>\n      <td>I believe that my skill and interested in\\nSys...</td>\n      <td>BENJAMIN ABRAHAM CONSULTING, AMERICUS, GA\\nBus...</td>\n      <td>EDUCATION: LaVerne University, B.S. in Physics...</td>\n      <td>Auto-CAD Electrical for designing power and co...</td>\n    </tr>\n    <tr>\n      <th>7</th>\n      <td>IT Manager Resume</td>\n      <td>Engineering</td>\n      <td>83750</td>\n      <td>Thompsons Station, Tennessee</td>\n      <td>Full-Time Permanent</td>\n      <td>$145,000</td>\n      <td>Yes</td>\n      <td>Management (Manager, Director)</td>\n      <td>No</td>\n      <td>Bachelors</td>\n      <td>No</td>\n      <td>Highly experienced and solutions-oriented prof...</td>\n      <td>Professional Experience\\nForeign Currency -Mai...</td>\n      <td>Bachelor of Science in Construction Management...</td>\n      <td>ACHIEVEMENTS:\\nU.S. PATENT:  Patent no.4,907,1...</td>\n    </tr>\n    <tr>\n      <th>8</th>\n      <td>Jobspider, Senior Mems Process Engineer Resume</td>\n      <td>Engineering</td>\n      <td>83740</td>\n      <td>Chandler, Arizona</td>\n      <td>Full-Time Permanent</td>\n      <td>$120K</td>\n      <td>No</td>\n      <td>Experienced with over 2 years experience</td>\n      <td>Yes, Less Than 25%</td>\n      <td>Bachelors</td>\n      <td>No</td>\n      <td>Extensive experience in the semi-conductor ind...</td>\n      <td>Professional Experience\\nTWE Nonwovens | Fort ...</td>\n      <td>Data Science Certificate \\t\\t                 ...</td>\n      <td>QCS/RMS Software | Microsoft Office Applicatio...</td>\n    </tr>\n    <tr>\n      <th>...</th>\n      <td>...</td>\n      <td>...</td>\n      <td>...</td>\n      <td>...</td>\n      <td>...</td>\n      <td>...</td>\n      <td>...</td>\n      <td>...</td>\n      <td>...</td>\n      <td>...</td>\n      <td>...</td>\n      <td>...</td>\n      <td>...</td>\n      <td>...</td>\n      <td>...</td>\n    </tr>\n    <tr>\n      <th>11225</th>\n      <td>Director Resume</td>\n      <td>Business/Management</td>\n      <td>46551</td>\n      <td>Boise, Idaho</td>\n      <td>Full-Time Permanent</td>\n      <td>80k Annual</td>\n      <td>Yes</td>\n      <td>Management (Manager, Director)</td>\n      <td>Yes, 50-75%</td>\n      <td>Masters</td>\n      <td>Yes</td>\n      <td>Results-Focused Leader with Success in Leading...</td>\n      <td>Poseidon Infosoft is a one stop solutions for ...</td>\n      <td>Education\\n M.B.A., University of Phoenix (200...</td>\n      <td>Type 60+ wpm,  excellent accounting skills, at...</td>\n    </tr>\n    <tr>\n      <th>11227</th>\n      <td>office/clerk Resume</td>\n      <td>Business/Management</td>\n      <td>46497</td>\n      <td>Chicago, Illinois</td>\n      <td>Full-Time Permanent</td>\n      <td>18.00</td>\n      <td>Yes</td>\n      <td>New Grad/Entry Level</td>\n      <td>No</td>\n      <td>Other</td>\n      <td>No</td>\n      <td>Multi-functional executive with over 18 years ...</td>\n      <td>EMPLOYMENT HISTORY:\\nJuly 2008  present\\t\\t\\t\\...</td>\n      <td>University of California, San Diego\\nMasters P...</td>\n      <td>EXECUTIVE ADMINISTRATIVE ASSISTANT\\nHighly org...</td>\n    </tr>\n    <tr>\n      <th>11229</th>\n      <td>MGMT/MKTG/Sales Resume</td>\n      <td>Business/Management</td>\n      <td>46468</td>\n      <td>Mechanicsburg, Pennsylvania</td>\n      <td>Contractor</td>\n      <td>$13,000+ part time</td>\n      <td>Yes</td>\n      <td>New Grad/Entry Level</td>\n      <td>No</td>\n      <td>Other</td>\n      <td>No</td>\n      <td>I am seeking stable employment in a challengin...</td>\n      <td>District of Columbia Office of Tax and Revenue...</td>\n      <td>MBA, University of Phoenix\\nBA, Criminal Justi...</td>\n      <td>Thorough knowledge of Matlab, PSpice, Protel, ...</td>\n    </tr>\n    <tr>\n      <th>11231</th>\n      <td>Construction Manager Resume</td>\n      <td>Business/Management</td>\n      <td>46362</td>\n      <td>Temecula, California</td>\n      <td>Full-Time Permanent</td>\n      <td>90 k</td>\n      <td>Yes</td>\n      <td>Management (Manager, Director)</td>\n      <td>Yes, Less Than 25%</td>\n      <td>Other</td>\n      <td>Undecided</td>\n      <td>Contribute 20+ years corporate leadership to a...</td>\n      <td>The Job involves posting of business ads on va...</td>\n      <td>University of Missouri  St. Louis\\nCompleted D...</td>\n      <td>Microsoft Office, Word Perfect, Internet.</td>\n    </tr>\n    <tr>\n      <th>11233</th>\n      <td>administrative Resume</td>\n      <td>Business/Management</td>\n      <td>46323</td>\n      <td>Mesa, Arizona</td>\n      <td>Full-Time Permanent</td>\n      <td>15.00</td>\n      <td>Yes</td>\n      <td>Experienced with over 2 years experience</td>\n      <td>No</td>\n      <td>High School/Equivalent</td>\n      <td>No</td>\n      <td>Actively seeking a position as a\\n HUMAN RESOU...</td>\n      <td>5/06 to Present  -  Alluvium, L.L.C.  -  Manag...</td>\n      <td>TUI UNIVERSITY\\nMasters of Business Administra...</td>\n      <td>Offshore strategy development\\nProject Managem...</td>\n    </tr>\n  </tbody>\n</table>\n<p>3813 rows × 15 columns</p>\n</div>"
     },
     "execution_count": 43,
     "metadata": {},
     "output_type": "execute_result"
    }
   ],
   "source": [
    "df2."
   ],
   "metadata": {
    "collapsed": false
   }
  },
  {
   "cell_type": "code",
   "execution_count": 45,
   "outputs": [],
   "source": [
    "# df2.to_csv('data.csv')"
   ],
   "metadata": {
    "collapsed": false
   }
  },
  {
   "cell_type": "code",
   "execution_count": 51,
   "outputs": [],
   "source": [
    "df2 = df2.fillna('')"
   ],
   "metadata": {
    "collapsed": false
   }
  },
  {
   "cell_type": "code",
   "execution_count": 49,
   "outputs": [
    {
     "data": {
      "text/plain": "0        \\tCopywriting\\n\\tContent Creation\\n\\tCreati...\n1        Technical: Computer Architecture, Operating Sy...\n2        MS Office; PowerPoint; Advanced Excel; Solver...\n3        \\tExpert in reviewing mechanical site design ...\n4        Web Technologies\\tHTML, CSS, Bootstrap, JavaSc...\n                               ...                        \n16324                                                  NaN\n16325                                                  NaN\n16326                                                  NaN\n16327                                                  NaN\n16328                                                  NaN\nLength: 16328, dtype: object"
     },
     "execution_count": 49,
     "metadata": {},
     "output_type": "execute_result"
    }
   ],
   "source": [
    "df['Skills'] + ' '+ df['Objective']"
   ],
   "metadata": {
    "collapsed": false
   }
  },
  {
   "cell_type": "code",
   "execution_count": 52,
   "outputs": [
    {
     "data": {
      "text/plain": "Role                       0\nDesired Industry           0\nSpiderID                   0\nDesired Job Location       0\nType of Position           0\nDesired Wage               0\nU.S. Work Authorization    0\nJob Level                  0\nWilling to Travel          0\nHighest Degree Attained    0\nWilling to Relocate        0\nObjective                  0\nExperience                 0\nEducation                  0\nSkills                     0\ndtype: int64"
     },
     "execution_count": 52,
     "metadata": {},
     "output_type": "execute_result"
    }
   ],
   "source": [
    "df2.isnull().sum()"
   ],
   "metadata": {
    "collapsed": false
   }
  },
  {
   "cell_type": "code",
   "execution_count": 53,
   "outputs": [],
   "source": [
    "import spacy"
   ],
   "metadata": {
    "collapsed": false
   }
  },
  {
   "cell_type": "code",
   "execution_count": 54,
   "outputs": [],
   "source": [
    "nlp = spacy.load('en_core_web_sm')"
   ],
   "metadata": {
    "collapsed": false
   }
  },
  {
   "cell_type": "code",
   "execution_count": 55,
   "outputs": [],
   "source": [
    "df_copy = df2.copy()"
   ],
   "metadata": {
    "collapsed": false
   }
  },
  {
   "cell_type": "code",
   "execution_count": 58,
   "outputs": [],
   "source": [
    "def preprocess_doc(doc):\n",
    "    # Tokenize the document\n",
    "    tokens = [token.text for token in doc]\n",
    "\n",
    "    # Remove stop words\n",
    "    tokens = [token for token in tokens if not token.is_stop]\n",
    "\n",
    "    # Lemmatize the tokens\n",
    "    tokens = [token.lemma_ for token in doc]\n",
    "\n",
    "    # Join the tokens back into a single string\n",
    "    preprocessed_doc = ' '.join(tokens)\n",
    "\n",
    "    return preprocessed_doc"
   ],
   "metadata": {
    "collapsed": false
   }
  },
  {
   "cell_type": "code",
   "execution_count": 59,
   "outputs": [
    {
     "ename": "AttributeError",
     "evalue": "'str' object has no attribute 'is_stop'",
     "output_type": "error",
     "traceback": [
      "\u001B[0;31m---------------------------------------------------------------------------\u001B[0m",
      "\u001B[0;31mAttributeError\u001B[0m                            Traceback (most recent call last)",
      "Cell \u001B[0;32mIn [59], line 2\u001B[0m\n\u001B[1;32m      1\u001B[0m \u001B[38;5;28;01mfor\u001B[39;00m col \u001B[38;5;129;01min\u001B[39;00m [\u001B[38;5;124m'\u001B[39m\u001B[38;5;124mSkills\u001B[39m\u001B[38;5;124m'\u001B[39m, \u001B[38;5;124m'\u001B[39m\u001B[38;5;124mObjective\u001B[39m\u001B[38;5;124m'\u001B[39m, \u001B[38;5;124m'\u001B[39m\u001B[38;5;124mEducation\u001B[39m\u001B[38;5;124m'\u001B[39m, \u001B[38;5;124m'\u001B[39m\u001B[38;5;124mExperience\u001B[39m\u001B[38;5;124m'\u001B[39m]:\n\u001B[0;32m----> 2\u001B[0m     df_copy[col] \u001B[38;5;241m=\u001B[39m \u001B[43mdf_copy\u001B[49m\u001B[43m[\u001B[49m\u001B[43mcol\u001B[49m\u001B[43m]\u001B[49m\u001B[38;5;241;43m.\u001B[39;49m\u001B[43mapply\u001B[49m\u001B[43m(\u001B[49m\u001B[38;5;28;43;01mlambda\u001B[39;49;00m\u001B[43m \u001B[49m\u001B[43mx\u001B[49m\u001B[43m:\u001B[49m\u001B[43m \u001B[49m\u001B[43mpreprocess_doc\u001B[49m\u001B[43m(\u001B[49m\u001B[43mnlp\u001B[49m\u001B[43m(\u001B[49m\u001B[43mx\u001B[49m\u001B[43m)\u001B[49m\u001B[43m)\u001B[49m\u001B[43m)\u001B[49m\n",
      "File \u001B[0;32m~/Documents/oneAPIproject/venv/lib/python3.10/site-packages/pandas/core/series.py:4771\u001B[0m, in \u001B[0;36mSeries.apply\u001B[0;34m(self, func, convert_dtype, args, **kwargs)\u001B[0m\n\u001B[1;32m   4661\u001B[0m \u001B[38;5;28;01mdef\u001B[39;00m \u001B[38;5;21mapply\u001B[39m(\n\u001B[1;32m   4662\u001B[0m     \u001B[38;5;28mself\u001B[39m,\n\u001B[1;32m   4663\u001B[0m     func: AggFuncType,\n\u001B[0;32m   (...)\u001B[0m\n\u001B[1;32m   4666\u001B[0m     \u001B[38;5;241m*\u001B[39m\u001B[38;5;241m*\u001B[39mkwargs,\n\u001B[1;32m   4667\u001B[0m ) \u001B[38;5;241m-\u001B[39m\u001B[38;5;241m>\u001B[39m DataFrame \u001B[38;5;241m|\u001B[39m Series:\n\u001B[1;32m   4668\u001B[0m     \u001B[38;5;124;03m\"\"\"\u001B[39;00m\n\u001B[1;32m   4669\u001B[0m \u001B[38;5;124;03m    Invoke function on values of Series.\u001B[39;00m\n\u001B[1;32m   4670\u001B[0m \n\u001B[0;32m   (...)\u001B[0m\n\u001B[1;32m   4769\u001B[0m \u001B[38;5;124;03m    dtype: float64\u001B[39;00m\n\u001B[1;32m   4770\u001B[0m \u001B[38;5;124;03m    \"\"\"\u001B[39;00m\n\u001B[0;32m-> 4771\u001B[0m     \u001B[38;5;28;01mreturn\u001B[39;00m \u001B[43mSeriesApply\u001B[49m\u001B[43m(\u001B[49m\u001B[38;5;28;43mself\u001B[39;49m\u001B[43m,\u001B[49m\u001B[43m \u001B[49m\u001B[43mfunc\u001B[49m\u001B[43m,\u001B[49m\u001B[43m \u001B[49m\u001B[43mconvert_dtype\u001B[49m\u001B[43m,\u001B[49m\u001B[43m \u001B[49m\u001B[43margs\u001B[49m\u001B[43m,\u001B[49m\u001B[43m \u001B[49m\u001B[43mkwargs\u001B[49m\u001B[43m)\u001B[49m\u001B[38;5;241;43m.\u001B[39;49m\u001B[43mapply\u001B[49m\u001B[43m(\u001B[49m\u001B[43m)\u001B[49m\n",
      "File \u001B[0;32m~/Documents/oneAPIproject/venv/lib/python3.10/site-packages/pandas/core/apply.py:1123\u001B[0m, in \u001B[0;36mSeriesApply.apply\u001B[0;34m(self)\u001B[0m\n\u001B[1;32m   1120\u001B[0m     \u001B[38;5;28;01mreturn\u001B[39;00m \u001B[38;5;28mself\u001B[39m\u001B[38;5;241m.\u001B[39mapply_str()\n\u001B[1;32m   1122\u001B[0m \u001B[38;5;66;03m# self.f is Callable\u001B[39;00m\n\u001B[0;32m-> 1123\u001B[0m \u001B[38;5;28;01mreturn\u001B[39;00m \u001B[38;5;28;43mself\u001B[39;49m\u001B[38;5;241;43m.\u001B[39;49m\u001B[43mapply_standard\u001B[49m\u001B[43m(\u001B[49m\u001B[43m)\u001B[49m\n",
      "File \u001B[0;32m~/Documents/oneAPIproject/venv/lib/python3.10/site-packages/pandas/core/apply.py:1174\u001B[0m, in \u001B[0;36mSeriesApply.apply_standard\u001B[0;34m(self)\u001B[0m\n\u001B[1;32m   1172\u001B[0m     \u001B[38;5;28;01melse\u001B[39;00m:\n\u001B[1;32m   1173\u001B[0m         values \u001B[38;5;241m=\u001B[39m obj\u001B[38;5;241m.\u001B[39mastype(\u001B[38;5;28mobject\u001B[39m)\u001B[38;5;241m.\u001B[39m_values\n\u001B[0;32m-> 1174\u001B[0m         mapped \u001B[38;5;241m=\u001B[39m \u001B[43mlib\u001B[49m\u001B[38;5;241;43m.\u001B[39;49m\u001B[43mmap_infer\u001B[49m\u001B[43m(\u001B[49m\n\u001B[1;32m   1175\u001B[0m \u001B[43m            \u001B[49m\u001B[43mvalues\u001B[49m\u001B[43m,\u001B[49m\n\u001B[1;32m   1176\u001B[0m \u001B[43m            \u001B[49m\u001B[43mf\u001B[49m\u001B[43m,\u001B[49m\n\u001B[1;32m   1177\u001B[0m \u001B[43m            \u001B[49m\u001B[43mconvert\u001B[49m\u001B[38;5;241;43m=\u001B[39;49m\u001B[38;5;28;43mself\u001B[39;49m\u001B[38;5;241;43m.\u001B[39;49m\u001B[43mconvert_dtype\u001B[49m\u001B[43m,\u001B[49m\n\u001B[1;32m   1178\u001B[0m \u001B[43m        \u001B[49m\u001B[43m)\u001B[49m\n\u001B[1;32m   1180\u001B[0m \u001B[38;5;28;01mif\u001B[39;00m \u001B[38;5;28mlen\u001B[39m(mapped) \u001B[38;5;129;01mand\u001B[39;00m \u001B[38;5;28misinstance\u001B[39m(mapped[\u001B[38;5;241m0\u001B[39m], ABCSeries):\n\u001B[1;32m   1181\u001B[0m     \u001B[38;5;66;03m# GH#43986 Need to do list(mapped) in order to get treated as nested\u001B[39;00m\n\u001B[1;32m   1182\u001B[0m     \u001B[38;5;66;03m#  See also GH#25959 regarding EA support\u001B[39;00m\n\u001B[1;32m   1183\u001B[0m     \u001B[38;5;28;01mreturn\u001B[39;00m obj\u001B[38;5;241m.\u001B[39m_constructor_expanddim(\u001B[38;5;28mlist\u001B[39m(mapped), index\u001B[38;5;241m=\u001B[39mobj\u001B[38;5;241m.\u001B[39mindex)\n",
      "File \u001B[0;32m~/Documents/oneAPIproject/venv/lib/python3.10/site-packages/pandas/_libs/lib.pyx:2924\u001B[0m, in \u001B[0;36mpandas._libs.lib.map_infer\u001B[0;34m()\u001B[0m\n",
      "Cell \u001B[0;32mIn [59], line 2\u001B[0m, in \u001B[0;36m<lambda>\u001B[0;34m(x)\u001B[0m\n\u001B[1;32m      1\u001B[0m \u001B[38;5;28;01mfor\u001B[39;00m col \u001B[38;5;129;01min\u001B[39;00m [\u001B[38;5;124m'\u001B[39m\u001B[38;5;124mSkills\u001B[39m\u001B[38;5;124m'\u001B[39m, \u001B[38;5;124m'\u001B[39m\u001B[38;5;124mObjective\u001B[39m\u001B[38;5;124m'\u001B[39m, \u001B[38;5;124m'\u001B[39m\u001B[38;5;124mEducation\u001B[39m\u001B[38;5;124m'\u001B[39m, \u001B[38;5;124m'\u001B[39m\u001B[38;5;124mExperience\u001B[39m\u001B[38;5;124m'\u001B[39m]:\n\u001B[0;32m----> 2\u001B[0m     df_copy[col] \u001B[38;5;241m=\u001B[39m df_copy[col]\u001B[38;5;241m.\u001B[39mapply(\u001B[38;5;28;01mlambda\u001B[39;00m x: \u001B[43mpreprocess_doc\u001B[49m\u001B[43m(\u001B[49m\u001B[43mnlp\u001B[49m\u001B[43m(\u001B[49m\u001B[43mx\u001B[49m\u001B[43m)\u001B[49m\u001B[43m)\u001B[49m)\n",
      "Cell \u001B[0;32mIn [58], line 6\u001B[0m, in \u001B[0;36mpreprocess_doc\u001B[0;34m(doc)\u001B[0m\n\u001B[1;32m      3\u001B[0m tokens \u001B[38;5;241m=\u001B[39m [token\u001B[38;5;241m.\u001B[39mtext \u001B[38;5;28;01mfor\u001B[39;00m token \u001B[38;5;129;01min\u001B[39;00m doc]\n\u001B[1;32m      5\u001B[0m \u001B[38;5;66;03m# Remove stop words\u001B[39;00m\n\u001B[0;32m----> 6\u001B[0m tokens \u001B[38;5;241m=\u001B[39m [token \u001B[38;5;28;01mfor\u001B[39;00m token \u001B[38;5;129;01min\u001B[39;00m tokens \u001B[38;5;28;01mif\u001B[39;00m \u001B[38;5;129;01mnot\u001B[39;00m token\u001B[38;5;241m.\u001B[39mis_stop]\n\u001B[1;32m      8\u001B[0m \u001B[38;5;66;03m# Lemmatize the tokens\u001B[39;00m\n\u001B[1;32m      9\u001B[0m tokens \u001B[38;5;241m=\u001B[39m [token\u001B[38;5;241m.\u001B[39mlemma_ \u001B[38;5;28;01mfor\u001B[39;00m token \u001B[38;5;129;01min\u001B[39;00m doc]\n",
      "Cell \u001B[0;32mIn [58], line 6\u001B[0m, in \u001B[0;36m<listcomp>\u001B[0;34m(.0)\u001B[0m\n\u001B[1;32m      3\u001B[0m tokens \u001B[38;5;241m=\u001B[39m [token\u001B[38;5;241m.\u001B[39mtext \u001B[38;5;28;01mfor\u001B[39;00m token \u001B[38;5;129;01min\u001B[39;00m doc]\n\u001B[1;32m      5\u001B[0m \u001B[38;5;66;03m# Remove stop words\u001B[39;00m\n\u001B[0;32m----> 6\u001B[0m tokens \u001B[38;5;241m=\u001B[39m [token \u001B[38;5;28;01mfor\u001B[39;00m token \u001B[38;5;129;01min\u001B[39;00m tokens \u001B[38;5;28;01mif\u001B[39;00m \u001B[38;5;129;01mnot\u001B[39;00m \u001B[43mtoken\u001B[49m\u001B[38;5;241;43m.\u001B[39;49m\u001B[43mis_stop\u001B[49m]\n\u001B[1;32m      8\u001B[0m \u001B[38;5;66;03m# Lemmatize the tokens\u001B[39;00m\n\u001B[1;32m      9\u001B[0m tokens \u001B[38;5;241m=\u001B[39m [token\u001B[38;5;241m.\u001B[39mlemma_ \u001B[38;5;28;01mfor\u001B[39;00m token \u001B[38;5;129;01min\u001B[39;00m doc]\n",
      "\u001B[0;31mAttributeError\u001B[0m: 'str' object has no attribute 'is_stop'"
     ]
    }
   ],
   "source": [
    "for col in ['Skills', 'Objective', 'Education', 'Experience']:\n",
    "    df_copy[col] = df_copy[col].apply(lambda x: preprocess_doc(nlp(x)))"
   ],
   "metadata": {
    "collapsed": false
   }
  },
  {
   "cell_type": "code",
   "execution_count": null,
   "outputs": [],
   "source": [],
   "metadata": {
    "collapsed": false
   }
  }
 ],
 "metadata": {
  "kernelspec": {
   "display_name": "Python 3",
   "language": "python",
   "name": "python3"
  },
  "language_info": {
   "codemirror_mode": {
    "name": "ipython",
    "version": 2
   },
   "file_extension": ".py",
   "mimetype": "text/x-python",
   "name": "python",
   "nbconvert_exporter": "python",
   "pygments_lexer": "ipython2",
   "version": "2.7.6"
  }
 },
 "nbformat": 4,
 "nbformat_minor": 0
}
