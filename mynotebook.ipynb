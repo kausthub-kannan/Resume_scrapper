{
 "cells": [
  {
   "cell_type": "code",
   "execution_count": 1,
   "outputs": [],
   "source": [
    "import scrape"
   ],
   "metadata": {
    "collapsed": false
   }
  },
  {
   "cell_type": "code",
   "execution_count": null,
   "outputs": [
    {
     "name": "stdout",
     "output_type": "stream",
     "text": [
      "---->     Extracting page:  https://www.jobspider.com/job/view-resume-83965.html \n",
      "    ......\n",
      "---->     Extracting page:  https://www.jobspider.com/job/view-resume-83956.html \n",
      "    ......\n",
      "---->     Extracting page:  https://www.jobspider.com/job/view-resume-83927.html \n",
      "    ......\n",
      "---->     Extracting page:  https://www.jobspider.com/job/view-resume-83905.html \n",
      "    ......\n",
      "---->     Extracting page:  https://www.jobspider.com/job/view-resume-83898.html \n",
      "    ......\n",
      "---->     Extracting page:  https://www.jobspider.com/job/view-resume-83896.html \n",
      "    ......\n",
      "---->     Extracting page:  https://www.jobspider.com/job/view-resume-83891.html \n",
      "    ......\n",
      "---->     Extracting page:  https://www.jobspider.com/job/view-resume-83890.html \n",
      "    ......\n",
      "---->     Extracting page:  https://www.jobspider.com/job/view-resume-83889.html \n",
      "    ......\n",
      "---->     Extracting page:  https://www.jobspider.com/job/view-resume-83888.html \n",
      "    ......\n",
      "---->     Extracting page:  https://www.jobspider.com/job/view-resume-83874.html \n",
      "    ......\n",
      "---->     Extracting page:  https://www.jobspider.com/job/view-resume-83871.html \n",
      "    ......\n",
      "---->     Extracting page:  https://www.jobspider.com/job/view-resume-83853.html \n",
      "    ......\n",
      "---->     Extracting page:  https://www.jobspider.com/job/view-resume-83833.html \n",
      "    ......\n",
      "---->     Extracting page:  https://www.jobspider.com/job/view-resume-83784.html \n",
      "    ......\n",
      "---->     Extracting page:  https://www.jobspider.com/job/view-resume-83717.html \n",
      "    ......\n",
      "---->     Extracting page:  https://www.jobspider.com/job/view-resume-83706.html \n",
      "    ......\n",
      "---->     Extracting page:  https://www.jobspider.com/job/view-resume-83701.html \n",
      "    ......\n",
      "---->     Extracting page:  https://www.jobspider.com/job/view-resume-83687.html \n",
      "    ......\n",
      "---->     Extracting page:  https://www.jobspider.com/job/view-resume-83652.html \n",
      "    ......\n",
      "---->     Extracting page:  https://www.jobspider.com/job/view-resume-83651.html \n",
      "    ......\n",
      "---->     Extracting page:  https://www.jobspider.com/job/view-resume-83633.html \n",
      "    ......\n",
      "---->     Extracting page:  https://www.jobspider.com/job/view-resume-83622.html \n",
      "    ......\n",
      "---->     Extracting page:  https://www.jobspider.com/job/view-resume-83583.html \n",
      "    ......\n",
      "---->     Extracting page:  https://www.jobspider.com/job/view-resume-83566.html \n",
      "    ......\n",
      "---->     Extracting page:  https://www.jobspider.com/job/view-resume-83538.html \n",
      "    ......\n",
      "---->     Extracting page:  https://www.jobspider.com/job/view-resume-83505.html \n",
      "    ......\n",
      "---->     Extracting page:  https://www.jobspider.com/job/view-resume-83496.html \n",
      "    ......\n",
      "---->     Extracting page:  https://www.jobspider.com/job/view-resume-83482.html \n",
      "    ......\n",
      "---->     Extracting page:  https://www.jobspider.com/job/view-resume-83422.html \n",
      "    ......\n",
      "---->     Extracting page:  https://www.jobspider.com/job/view-resume-83421.html \n",
      "    ......\n",
      "---->     Extracting page:  https://www.jobspider.com/job/view-resume-83420.html \n",
      "    ......\n",
      "---->     Extracting page:  https://www.jobspider.com/job/view-resume-83391.html \n",
      "    ......\n",
      "---->     Extracting page:  https://www.jobspider.com/job/view-resume-83390.html \n",
      "    ......\n",
      "---->     Extracting page:  https://www.jobspider.com/job/view-resume-83380.html \n",
      "    ......\n",
      "---->     Extracting page:  https://www.jobspider.com/job/view-resume-83371.html \n",
      "    ......\n",
      "---->     Extracting page:  https://www.jobspider.com/job/view-resume-83359.html \n",
      "    ......\n",
      "---->     Extracting page:  https://www.jobspider.com/job/view-resume-83354.html \n",
      "    ......\n",
      "---->     Extracting page:  https://www.jobspider.com/job/view-resume-83353.html \n",
      "    ......\n",
      "---->     Extracting page:  https://www.jobspider.com/job/view-resume-83352.html \n",
      "    ......\n",
      "---->     Extracting page:  https://www.jobspider.com/job/view-resume-83350.html \n",
      "    ......\n",
      "---->     Extracting page:  https://www.jobspider.com/job/view-resume-83337.html \n",
      "    ......\n",
      "---->     Extracting page:  https://www.jobspider.com/job/view-resume-83305.html \n",
      "    ......\n",
      "---->     Extracting page:  https://www.jobspider.com/job/view-resume-83302.html \n",
      "    ......\n",
      "---->     Extracting page:  https://www.jobspider.com/job/view-resume-83301.html \n",
      "    ......\n",
      "---->     Extracting page:  https://www.jobspider.com/job/view-resume-83278.html \n",
      "    ......\n",
      "---->     Extracting page:  https://www.jobspider.com/job/view-resume-83265.html \n",
      "    ......\n",
      "---->     Extracting page:  https://www.jobspider.com/job/view-resume-83253.html \n",
      "    ......\n",
      "---->     Extracting page:  https://www.jobspider.com/job/view-resume-83223.html \n",
      "    ......\n",
      "---->     Extracting page:  https://www.jobspider.com/job/view-resume-83221.html \n",
      "    ......\n",
      "\n",
      "Page:  https://www.jobspider.com/job/resume-search-results.asp/words_developer/searchtype_1/page_2\n",
      "---->     Extracting page:  https://www.jobspider.com/job/view-resume-83220.html \n",
      "    ......\n",
      "---->     Extracting page:  https://www.jobspider.com/job/view-resume-83219.html \n",
      "    ......\n",
      "---->     Extracting page:  https://www.jobspider.com/job/view-resume-83203.html \n",
      "    ......\n",
      "---->     Extracting page:  https://www.jobspider.com/job/view-resume-83200.html \n",
      "    ......\n",
      "---->     Extracting page:  https://www.jobspider.com/job/view-resume-83199.html \n",
      "    ......\n",
      "---->     Extracting page:  https://www.jobspider.com/job/view-resume-83194.html \n",
      "    ......\n",
      "---->     Extracting page:  https://www.jobspider.com/job/view-resume-83173.html \n",
      "    ......\n",
      "---->     Extracting page:  https://www.jobspider.com/job/view-resume-83155.html \n",
      "    ......\n",
      "---->     Extracting page:  https://www.jobspider.com/job/view-resume-83150.html \n",
      "    ......\n",
      "---->     Extracting page:  https://www.jobspider.com/job/view-resume-83149.html \n",
      "    ......\n",
      "---->     Extracting page:  https://www.jobspider.com/job/view-resume-83143.html \n",
      "    ......\n",
      "---->     Extracting page:  https://www.jobspider.com/job/view-resume-83142.html \n",
      "    ......\n",
      "---->     Extracting page:  https://www.jobspider.com/job/view-resume-83108.html \n",
      "    ......\n",
      "---->     Extracting page:  https://www.jobspider.com/job/view-resume-83107.html \n",
      "    ......\n",
      "---->     Extracting page:  https://www.jobspider.com/job/view-resume-83084.html \n",
      "    ......\n",
      "---->     Extracting page:  https://www.jobspider.com/job/view-resume-83035.html \n",
      "    ......\n",
      "---->     Extracting page:  https://www.jobspider.com/job/view-resume-83034.html \n",
      "    ......\n",
      "---->     Extracting page:  https://www.jobspider.com/job/view-resume-83029.html \n",
      "    ......\n",
      "---->     Extracting page:  https://www.jobspider.com/job/view-resume-83027.html \n",
      "    ......\n",
      "---->     Extracting page:  https://www.jobspider.com/job/view-resume-83026.html \n",
      "    ......\n",
      "---->     Extracting page:  https://www.jobspider.com/job/view-resume-83020.html \n",
      "    ......\n",
      "---->     Extracting page:  https://www.jobspider.com/job/view-resume-83019.html \n",
      "    ......\n",
      "---->     Extracting page:  https://www.jobspider.com/job/view-resume-83017.html \n",
      "    ......\n",
      "---->     Extracting page:  https://www.jobspider.com/job/view-resume-83010.html \n",
      "    ......\n",
      "---->     Extracting page:  https://www.jobspider.com/job/view-resume-82964.html \n",
      "    ......\n",
      "---->     Extracting page:  https://www.jobspider.com/job/view-resume-82963.html \n",
      "    ......\n",
      "---->     Extracting page:  https://www.jobspider.com/job/view-resume-82958.html \n",
      "    ......\n",
      "---->     Extracting page:  https://www.jobspider.com/job/view-resume-82942.html \n",
      "    ......\n",
      "---->     Extracting page:  https://www.jobspider.com/job/view-resume-82908.html \n",
      "    ......\n",
      "---->     Extracting page:  https://www.jobspider.com/job/view-resume-82906.html \n",
      "    ......\n",
      "---->     Extracting page:  https://www.jobspider.com/job/view-resume-82905.html \n",
      "    ......\n",
      "---->     Extracting page:  https://www.jobspider.com/job/view-resume-82901.html \n",
      "    ......\n",
      "---->     Extracting page:  https://www.jobspider.com/job/view-resume-82896.html \n",
      "    ......\n",
      "---->     Extracting page:  https://www.jobspider.com/job/view-resume-82884.html \n",
      "    ......\n",
      "---->     Extracting page:  https://www.jobspider.com/job/view-resume-82877.html \n",
      "    ......\n",
      "---->     Extracting page:  https://www.jobspider.com/job/view-resume-82836.html \n",
      "    ......\n",
      "---->     Extracting page:  https://www.jobspider.com/job/view-resume-82816.html \n",
      "    ......\n",
      "---->     Extracting page:  https://www.jobspider.com/job/view-resume-82810.html \n",
      "    ......\n",
      "---->     Extracting page:  https://www.jobspider.com/job/view-resume-82803.html \n",
      "    ......\n",
      "---->     Extracting page:  https://www.jobspider.com/job/view-resume-82798.html \n",
      "    ......\n",
      "---->     Extracting page:  https://www.jobspider.com/job/view-resume-82796.html \n",
      "    ......\n",
      "---->     Extracting page:  https://www.jobspider.com/job/view-resume-82795.html \n",
      "    ......\n",
      "---->     Extracting page:  https://www.jobspider.com/job/view-resume-82793.html \n",
      "    ......\n",
      "---->     Extracting page:  https://www.jobspider.com/job/view-resume-82786.html \n",
      "    ......\n",
      "---->     Extracting page:  https://www.jobspider.com/job/view-resume-82783.html \n",
      "    ......\n",
      "---->     Extracting page:  https://www.jobspider.com/job/view-resume-82764.html \n",
      "    ......\n",
      "---->     Extracting page:  https://www.jobspider.com/job/view-resume-82749.html \n",
      "    ......\n",
      "---->     Extracting page:  https://www.jobspider.com/job/view-resume-82742.html \n",
      "    ......\n",
      "---->     Extracting page:  https://www.jobspider.com/job/view-resume-82733.html \n",
      "    ......\n",
      "---->     Extracting page:  https://www.jobspider.com/job/view-resume-82679.html \n",
      "    ......\n",
      "Resumes fetched:  100\n",
      "\n",
      "Page:  https://www.jobspider.com/job/resume-search-results.asp/words_developer/searchtype_1/page_3\n",
      "---->     Extracting page:  https://www.jobspider.com/job/view-resume-82669.html \n",
      "    ......\n",
      "---->     Extracting page:  https://www.jobspider.com/job/view-resume-82639.html \n",
      "    ......\n",
      "---->     Extracting page:  https://www.jobspider.com/job/view-resume-82630.html \n",
      "    ......\n",
      "---->     Extracting page:  https://www.jobspider.com/job/view-resume-82600.html \n",
      "    ......\n",
      "---->     Extracting page:  https://www.jobspider.com/job/view-resume-82558.html \n",
      "    ......\n",
      "---->     Extracting page:  https://www.jobspider.com/job/view-resume-82554.html \n",
      "    ......\n",
      "---->     Extracting page:  https://www.jobspider.com/job/view-resume-82552.html \n",
      "    ......\n",
      "---->     Extracting page:  https://www.jobspider.com/job/view-resume-82533.html \n",
      "    ......\n"
     ]
    }
   ],
   "source": [
    "d = scrape.scrape('developer')"
   ],
   "metadata": {
    "collapsed": false,
    "pycharm": {
     "is_executing": true
    }
   }
  },
  {
   "cell_type": "code",
   "execution_count": 3,
   "outputs": [
    {
     "ename": "NameError",
     "evalue": "name 'd' is not defined",
     "output_type": "error",
     "traceback": [
      "\u001B[0;31m---------------------------------------------------------------------------\u001B[0m",
      "\u001B[0;31mNameError\u001B[0m                                 Traceback (most recent call last)",
      "Cell \u001B[0;32mIn [3], line 1\u001B[0m\n\u001B[0;32m----> 1\u001B[0m \u001B[43md\u001B[49m\u001B[38;5;241m.\u001B[39mkeys()\u001B[38;5;241m.\u001B[39m\u001B[38;5;21m__len__\u001B[39m()\n",
      "\u001B[0;31mNameError\u001B[0m: name 'd' is not defined"
     ]
    }
   ],
   "source": [
    "d.keys().__len__()"
   ],
   "metadata": {
    "collapsed": false
   }
  },
  {
   "cell_type": "code",
   "execution_count": 4,
   "outputs": [
    {
     "data": {
      "text/plain": "1500"
     },
     "execution_count": 4,
     "metadata": {},
     "output_type": "execute_result"
    }
   ],
   "source": [
    "d['SpiderID'].__len__()"
   ],
   "metadata": {
    "collapsed": false
   }
  },
  {
   "cell_type": "code",
   "execution_count": 5,
   "outputs": [
    {
     "data": {
      "text/plain": "dict_keys(['Role', 'Desired Industry', 'SpiderID', 'Desired Job Location', 'Date Posted', 'Type of Position', 'Availability Date', 'Desired Wage', 'U.S. Work Authorization', 'Job Level', 'Willing to Travel', 'Highest Degree Attained', 'Willing to Relocate', 'Objective', 'Experience', 'Education', 'Affiliations', 'Skills', 'Additional Information', 'Reference'])"
     },
     "execution_count": 5,
     "metadata": {},
     "output_type": "execute_result"
    }
   ],
   "source": [
    "d.keys()"
   ],
   "metadata": {
    "collapsed": false
   }
  },
  {
   "cell_type": "code",
   "execution_count": 6,
   "outputs": [
    {
     "name": "stdout",
     "output_type": "stream",
     "text": [
      "field='Role': 1500\n",
      "field='Desired Industry': 1500\n",
      "field='SpiderID': 1500\n",
      "field='Desired Job Location': 1500\n",
      "field='Date Posted': 1500\n",
      "field='Type of Position': 1500\n",
      "field='Availability Date': 1500\n",
      "field='Desired Wage': 1500\n",
      "field='U.S. Work Authorization': 1500\n",
      "field='Job Level': 1500\n",
      "field='Willing to Travel': 1500\n",
      "field='Highest Degree Attained': 1500\n",
      "field='Willing to Relocate': 1500\n",
      "field='Objective': 1291\n",
      "field='Experience': 1408\n",
      "field='Education': 1346\n",
      "field='Affiliations': 625\n",
      "field='Skills': 1308\n",
      "field='Additional Information': 913\n",
      "field='Reference': 489\n"
     ]
    }
   ],
   "source": [
    "for field in d:\n",
    "    print(f\"{field=}: {d[field].__len__()}\")"
   ],
   "metadata": {
    "collapsed": false
   }
  },
  {
   "cell_type": "code",
   "execution_count": 30,
   "outputs": [
    {
     "data": {
      "text/plain": "35"
     },
     "execution_count": 30,
     "metadata": {},
     "output_type": "execute_result"
    }
   ],
   "source": [
    "sum(1 for i in d['Highest Degree Attained'] if i)"
   ],
   "metadata": {
    "collapsed": false
   }
  },
  {
   "cell_type": "code",
   "execution_count": 7,
   "outputs": [],
   "source": [
    "import pandas as pd"
   ],
   "metadata": {
    "collapsed": false
   }
  },
  {
   "cell_type": "code",
   "execution_count": 8,
   "outputs": [],
   "source": [
    "df = pd.DataFrame.from_dict(d, orient='index').T"
   ],
   "metadata": {
    "collapsed": false
   }
  },
  {
   "cell_type": "code",
   "execution_count": 9,
   "outputs": [
    {
     "data": {
      "text/plain": "Role                       1500\nDesired Industry           1500\nSpiderID                   1500\nDesired Job Location       1500\nDate Posted                1500\nType of Position           1500\nAvailability Date           876\nDesired Wage               1048\nU.S. Work Authorization    1386\nJob Level                  1500\nWilling to Travel          1046\nHighest Degree Attained    1382\nWilling to Relocate        1387\nObjective                  1291\nExperience                 1408\nEducation                  1346\nAffiliations                625\nSkills                     1308\nAdditional Information      913\nReference                   489\ndtype: int64"
     },
     "execution_count": 9,
     "metadata": {},
     "output_type": "execute_result"
    }
   ],
   "source": [
    "df.shape[0] - df.isnull().sum()"
   ],
   "metadata": {
    "collapsed": false
   }
  },
  {
   "cell_type": "code",
   "execution_count": 10,
   "outputs": [],
   "source": [
    "df.to_csv('resume_data_improved.csv')"
   ],
   "metadata": {
    "collapsed": false
   }
  },
  {
   "cell_type": "code",
   "execution_count": 11,
   "outputs": [
    {
     "data": {
      "text/plain": "                                                   Role  \\\n0     Conversation Designer, Prompt Engineer (AI), C...   \n1                          IT Support Specialist Resume   \n2                              Software Engineer Resume   \n3                                        Analyst Resume   \n4                            Mechanical Engineer Resume   \n...                                                 ...   \n1495                            Network Engineer Resume   \n1496                                  Accountant Resume   \n1497                          Reservoir Engineer Resume   \n1498                           Chemical Engineer Resume   \n1499              Manufacturing Engineer Manager Resume   \n\n                   Desired Industry SpiderID     Desired Job Location  \\\n0            Information Technology    83965       New York, New York   \n1            Information Technology    83943      Vero Beach, Florida   \n2     Computer Software/Programming    83929  new york city, New York   \n3             Multiple Job Offering    83923     Orangeville, Ontario   \n4                       Engineering    83916    Surrey, New Brunswick   \n...                             ...      ...                      ...   \n1495                  Entertainment    75502       New York, New York   \n1496         Accounting/Bookkeeping    75497      Boca Raton, Florida   \n1497                    Engineering    75495   Broken Arrow, Oklahoma   \n1498                    Engineering    75491        Carrollton, Texas   \n1499                  Manufacturing    75488        Spirit Lake, Iowa   \n\n     Date Posted     Type of Position Availability Date Desired Wage  \\\n0       3/6/2023                Other       Immediately         None   \n1      2/17/2023  Full-Time Permanent      1 April 2023       67,000   \n2       2/3/2023  Full-Time Permanent              None         None   \n3      1/26/2023  Full-Time Permanent   February 1 2023   negotiable   \n4      1/17/2023  Full-Time Permanent              None         None   \n...          ...                  ...               ...          ...   \n1495    6/2/2015  Full-Time Permanent           2 weeks         None   \n1496    6/2/2015  Full-Time Permanent              None         None   \n1497    6/2/2015  Full-Time Permanent       Immediately        90000   \n1498    6/1/2015  Full-Time Permanent       Immediately        40000   \n1499   5/31/2015  Full-Time Permanent       Immediately       200000   \n\n     U.S. Work Authorization                                 Job Level  \\\n0                      Other            Management (Manager, Director)   \n1                        Yes  Experienced with over 2 years experience   \n2                       None  Experienced with over 2 years experience   \n3                         No  Experienced with over 2 years experience   \n4                        Yes  Experienced with over 2 years experience   \n...                      ...                                       ...   \n1495                     Yes            Management (Manager, Director)   \n1496                     Yes            Management (Manager, Director)   \n1497                     Yes  Experienced with over 2 years experience   \n1498                     Yes  Experienced with over 2 years experience   \n1499                     Yes            Management (Manager, Director)   \n\n       Willing to Travel Highest Degree Attained Willing to Relocate  \\\n0                   None                 Masters                 Yes   \n1            Yes, 50-75%                   Other                 Yes   \n2                   None                    None                None   \n3            Yes, 50-75%               Bachelors                 Yes   \n4                   None               Bachelors                 Yes   \n...                  ...                     ...                 ...   \n1495  Yes, Less Than 25%                   Other                 Yes   \n1496         Yes, 25-50%               Bachelors                  No   \n1497         Yes, 25-50%               Bachelors                 Yes   \n1498         Yes, 25-50%                 Masters                 Yes   \n1499         Yes, 25-50%                 Masters                 Yes   \n\n                                              Objective  \\\n0     Summary\\nCreative Copywriter with strong machi...   \n1     An administrative manager seeking a full-time ...   \n2     I am exceptionally driven, with an entrepreneu...   \n3     \\tOver 9 years of professional experience in ...   \n4     PROFESSIONAL SUMMARY:\\nQuality Analyst with ov...   \n...                                                 ...   \n1495                                               None   \n1496                                               None   \n1497                                               None   \n1498                                               None   \n1499                                               None   \n\n                                             Experience  \\\n0     11.2022  present\\nNo-Code Prompt Engineer (Ar...   \n1     Administrative Manager\\nVero Beach, FL.\\nJohn...   \n2     Diverse experience through part-time, contract...   \n3     A versatile, technically astute field piping, ...   \n4     Full Stack Java Developer \\tOzone Services, Sa...   \n...                                                 ...   \n1495                                               None   \n1496                                               None   \n1497                                               None   \n1498                                               None   \n1499                                               None   \n\n                                              Education  \\\n0     National State University\\nMaster`s Degree in ...   \n1     Cisco Certified Network Associate (CCNA)\\n11/2...   \n2     BASc Management Engineering\\nUniversity of Wat...   \n3     Philippines Licensed Mechanical Engineer with...   \n4     Bachelor of technology\\t Mount Zion College of...   \n...                                                 ...   \n1495                                               None   \n1496                                               None   \n1497                                               None   \n1498                                               None   \n1499                                               None   \n\n                                           Affiliations  \\\n0                                                   TBA   \n1     Association for the Advancement of Cost Engine...   \n2      Microsoft AZ 900\\n AWS Certified Cloud Prac...   \n3     Military and Aerospace PUblications\\nTech Brie...   \n4                                  University of Assiut   \n...                                                 ...   \n1495                                               None   \n1496                                               None   \n1497                                               None   \n1498                                               None   \n1499                                               None   \n\n                                                 Skills  \\\n0     \\tCopywriting\\n\\tContent Creation\\n\\tCreati...   \n1     Technical: Computer Architecture, Operating Sy...   \n2     MS Office; PowerPoint; Advanced Excel; Solver...   \n3     \\tExpert in reviewing mechanical site design ...   \n4     Web Technologies\\tHTML, CSS, Bootstrap, JavaSc...   \n...                                                 ...   \n1495                                               None   \n1496                                               None   \n1497                                               None   \n1498                                               None   \n1499                                               None   \n\n                                 Additional Information  \\\n0        Contact Information (E-mail): bigooo@online.ee   \n1     ● 8+ years of experience in building massively...   \n2     Security Clearance- Top Secret/SCI\\t\\t        ...   \n3     I moved to Canada on an Open Work Permit Schem...   \n4     Clarity, Enterprise Project Management plan, J...   \n...                                                 ...   \n1495                                               None   \n1496                                               None   \n1497                                               None   \n1498                                               None   \n1499                                               None   \n\n                    Reference  \n0     Available upon request.  \n1     Available upon request.  \n2     Available upon request.  \n3     Available upon request.  \n4     Available upon request.  \n...                       ...  \n1495                     None  \n1496                     None  \n1497                     None  \n1498                     None  \n1499                     None  \n\n[1500 rows x 20 columns]",
      "text/html": "<div>\n<style scoped>\n    .dataframe tbody tr th:only-of-type {\n        vertical-align: middle;\n    }\n\n    .dataframe tbody tr th {\n        vertical-align: top;\n    }\n\n    .dataframe thead th {\n        text-align: right;\n    }\n</style>\n<table border=\"1\" class=\"dataframe\">\n  <thead>\n    <tr style=\"text-align: right;\">\n      <th></th>\n      <th>Role</th>\n      <th>Desired Industry</th>\n      <th>SpiderID</th>\n      <th>Desired Job Location</th>\n      <th>Date Posted</th>\n      <th>Type of Position</th>\n      <th>Availability Date</th>\n      <th>Desired Wage</th>\n      <th>U.S. Work Authorization</th>\n      <th>Job Level</th>\n      <th>Willing to Travel</th>\n      <th>Highest Degree Attained</th>\n      <th>Willing to Relocate</th>\n      <th>Objective</th>\n      <th>Experience</th>\n      <th>Education</th>\n      <th>Affiliations</th>\n      <th>Skills</th>\n      <th>Additional Information</th>\n      <th>Reference</th>\n    </tr>\n  </thead>\n  <tbody>\n    <tr>\n      <th>0</th>\n      <td>Conversation Designer, Prompt Engineer (AI), C...</td>\n      <td>Information Technology</td>\n      <td>83965</td>\n      <td>New York, New York</td>\n      <td>3/6/2023</td>\n      <td>Other</td>\n      <td>Immediately</td>\n      <td>None</td>\n      <td>Other</td>\n      <td>Management (Manager, Director)</td>\n      <td>None</td>\n      <td>Masters</td>\n      <td>Yes</td>\n      <td>Summary\\nCreative Copywriter with strong machi...</td>\n      <td>11.2022  present\\nNo-Code Prompt Engineer (Ar...</td>\n      <td>National State University\\nMaster`s Degree in ...</td>\n      <td>TBA</td>\n      <td>\\tCopywriting\\n\\tContent Creation\\n\\tCreati...</td>\n      <td>Contact Information (E-mail): bigooo@online.ee</td>\n      <td>Available upon request.</td>\n    </tr>\n    <tr>\n      <th>1</th>\n      <td>IT Support Specialist Resume</td>\n      <td>Information Technology</td>\n      <td>83943</td>\n      <td>Vero Beach, Florida</td>\n      <td>2/17/2023</td>\n      <td>Full-Time Permanent</td>\n      <td>1 April 2023</td>\n      <td>67,000</td>\n      <td>Yes</td>\n      <td>Experienced with over 2 years experience</td>\n      <td>Yes, 50-75%</td>\n      <td>Other</td>\n      <td>Yes</td>\n      <td>An administrative manager seeking a full-time ...</td>\n      <td>Administrative Manager\\nVero Beach, FL.\\nJohn...</td>\n      <td>Cisco Certified Network Associate (CCNA)\\n11/2...</td>\n      <td>Association for the Advancement of Cost Engine...</td>\n      <td>Technical: Computer Architecture, Operating Sy...</td>\n      <td>● 8+ years of experience in building massively...</td>\n      <td>Available upon request.</td>\n    </tr>\n    <tr>\n      <th>2</th>\n      <td>Software Engineer Resume</td>\n      <td>Computer Software/Programming</td>\n      <td>83929</td>\n      <td>new york city, New York</td>\n      <td>2/3/2023</td>\n      <td>Full-Time Permanent</td>\n      <td>None</td>\n      <td>None</td>\n      <td>None</td>\n      <td>Experienced with over 2 years experience</td>\n      <td>None</td>\n      <td>None</td>\n      <td>None</td>\n      <td>I am exceptionally driven, with an entrepreneu...</td>\n      <td>Diverse experience through part-time, contract...</td>\n      <td>BASc Management Engineering\\nUniversity of Wat...</td>\n      <td> Microsoft AZ 900\\n AWS Certified Cloud Prac...</td>\n      <td>MS Office; PowerPoint; Advanced Excel; Solver...</td>\n      <td>Security Clearance- Top Secret/SCI\\t\\t        ...</td>\n      <td>Available upon request.</td>\n    </tr>\n    <tr>\n      <th>3</th>\n      <td>Analyst Resume</td>\n      <td>Multiple Job Offering</td>\n      <td>83923</td>\n      <td>Orangeville, Ontario</td>\n      <td>1/26/2023</td>\n      <td>Full-Time Permanent</td>\n      <td>February 1 2023</td>\n      <td>negotiable</td>\n      <td>No</td>\n      <td>Experienced with over 2 years experience</td>\n      <td>Yes, 50-75%</td>\n      <td>Bachelors</td>\n      <td>Yes</td>\n      <td>\\tOver 9 years of professional experience in ...</td>\n      <td>A versatile, technically astute field piping, ...</td>\n      <td>Philippines Licensed Mechanical Engineer with...</td>\n      <td>Military and Aerospace PUblications\\nTech Brie...</td>\n      <td>\\tExpert in reviewing mechanical site design ...</td>\n      <td>I moved to Canada on an Open Work Permit Schem...</td>\n      <td>Available upon request.</td>\n    </tr>\n    <tr>\n      <th>4</th>\n      <td>Mechanical Engineer Resume</td>\n      <td>Engineering</td>\n      <td>83916</td>\n      <td>Surrey, New Brunswick</td>\n      <td>1/17/2023</td>\n      <td>Full-Time Permanent</td>\n      <td>None</td>\n      <td>None</td>\n      <td>Yes</td>\n      <td>Experienced with over 2 years experience</td>\n      <td>None</td>\n      <td>Bachelors</td>\n      <td>Yes</td>\n      <td>PROFESSIONAL SUMMARY:\\nQuality Analyst with ov...</td>\n      <td>Full Stack Java Developer \\tOzone Services, Sa...</td>\n      <td>Bachelor of technology\\t Mount Zion College of...</td>\n      <td>University of Assiut</td>\n      <td>Web Technologies\\tHTML, CSS, Bootstrap, JavaSc...</td>\n      <td>Clarity, Enterprise Project Management plan, J...</td>\n      <td>Available upon request.</td>\n    </tr>\n    <tr>\n      <th>...</th>\n      <td>...</td>\n      <td>...</td>\n      <td>...</td>\n      <td>...</td>\n      <td>...</td>\n      <td>...</td>\n      <td>...</td>\n      <td>...</td>\n      <td>...</td>\n      <td>...</td>\n      <td>...</td>\n      <td>...</td>\n      <td>...</td>\n      <td>...</td>\n      <td>...</td>\n      <td>...</td>\n      <td>...</td>\n      <td>...</td>\n      <td>...</td>\n      <td>...</td>\n    </tr>\n    <tr>\n      <th>1495</th>\n      <td>Network Engineer Resume</td>\n      <td>Entertainment</td>\n      <td>75502</td>\n      <td>New York, New York</td>\n      <td>6/2/2015</td>\n      <td>Full-Time Permanent</td>\n      <td>2 weeks</td>\n      <td>None</td>\n      <td>Yes</td>\n      <td>Management (Manager, Director)</td>\n      <td>Yes, Less Than 25%</td>\n      <td>Other</td>\n      <td>Yes</td>\n      <td>None</td>\n      <td>None</td>\n      <td>None</td>\n      <td>None</td>\n      <td>None</td>\n      <td>None</td>\n      <td>None</td>\n    </tr>\n    <tr>\n      <th>1496</th>\n      <td>Accountant Resume</td>\n      <td>Accounting/Bookkeeping</td>\n      <td>75497</td>\n      <td>Boca Raton, Florida</td>\n      <td>6/2/2015</td>\n      <td>Full-Time Permanent</td>\n      <td>None</td>\n      <td>None</td>\n      <td>Yes</td>\n      <td>Management (Manager, Director)</td>\n      <td>Yes, 25-50%</td>\n      <td>Bachelors</td>\n      <td>No</td>\n      <td>None</td>\n      <td>None</td>\n      <td>None</td>\n      <td>None</td>\n      <td>None</td>\n      <td>None</td>\n      <td>None</td>\n    </tr>\n    <tr>\n      <th>1497</th>\n      <td>Reservoir Engineer Resume</td>\n      <td>Engineering</td>\n      <td>75495</td>\n      <td>Broken Arrow, Oklahoma</td>\n      <td>6/2/2015</td>\n      <td>Full-Time Permanent</td>\n      <td>Immediately</td>\n      <td>90000</td>\n      <td>Yes</td>\n      <td>Experienced with over 2 years experience</td>\n      <td>Yes, 25-50%</td>\n      <td>Bachelors</td>\n      <td>Yes</td>\n      <td>None</td>\n      <td>None</td>\n      <td>None</td>\n      <td>None</td>\n      <td>None</td>\n      <td>None</td>\n      <td>None</td>\n    </tr>\n    <tr>\n      <th>1498</th>\n      <td>Chemical Engineer Resume</td>\n      <td>Engineering</td>\n      <td>75491</td>\n      <td>Carrollton, Texas</td>\n      <td>6/1/2015</td>\n      <td>Full-Time Permanent</td>\n      <td>Immediately</td>\n      <td>40000</td>\n      <td>Yes</td>\n      <td>Experienced with over 2 years experience</td>\n      <td>Yes, 25-50%</td>\n      <td>Masters</td>\n      <td>Yes</td>\n      <td>None</td>\n      <td>None</td>\n      <td>None</td>\n      <td>None</td>\n      <td>None</td>\n      <td>None</td>\n      <td>None</td>\n    </tr>\n    <tr>\n      <th>1499</th>\n      <td>Manufacturing Engineer Manager Resume</td>\n      <td>Manufacturing</td>\n      <td>75488</td>\n      <td>Spirit Lake, Iowa</td>\n      <td>5/31/2015</td>\n      <td>Full-Time Permanent</td>\n      <td>Immediately</td>\n      <td>200000</td>\n      <td>Yes</td>\n      <td>Management (Manager, Director)</td>\n      <td>Yes, 25-50%</td>\n      <td>Masters</td>\n      <td>Yes</td>\n      <td>None</td>\n      <td>None</td>\n      <td>None</td>\n      <td>None</td>\n      <td>None</td>\n      <td>None</td>\n      <td>None</td>\n    </tr>\n  </tbody>\n</table>\n<p>1500 rows × 20 columns</p>\n</div>"
     },
     "execution_count": 11,
     "metadata": {},
     "output_type": "execute_result"
    }
   ],
   "source": [
    "df"
   ],
   "metadata": {
    "collapsed": false
   }
  },
  {
   "cell_type": "code",
   "execution_count": 12,
   "outputs": [
    {
     "name": "stdout",
     "output_type": "stream",
     "text": [
      "<class 'pandas.core.frame.DataFrame'>\n",
      "RangeIndex: 1500 entries, 0 to 1499\n",
      "Data columns (total 20 columns):\n",
      " #   Column                   Non-Null Count  Dtype \n",
      "---  ------                   --------------  ----- \n",
      " 0   Role                     1500 non-null   object\n",
      " 1   Desired Industry         1500 non-null   object\n",
      " 2   SpiderID                 1500 non-null   object\n",
      " 3   Desired Job Location     1500 non-null   object\n",
      " 4   Date Posted              1500 non-null   object\n",
      " 5   Type of Position         1500 non-null   object\n",
      " 6   Availability Date        876 non-null    object\n",
      " 7   Desired Wage             1048 non-null   object\n",
      " 8   U.S. Work Authorization  1386 non-null   object\n",
      " 9   Job Level                1500 non-null   object\n",
      " 10  Willing to Travel        1046 non-null   object\n",
      " 11  Highest Degree Attained  1382 non-null   object\n",
      " 12  Willing to Relocate      1387 non-null   object\n",
      " 13  Objective                1291 non-null   object\n",
      " 14  Experience               1408 non-null   object\n",
      " 15  Education                1346 non-null   object\n",
      " 16  Affiliations             625 non-null    object\n",
      " 17  Skills                   1308 non-null   object\n",
      " 18  Additional Information   913 non-null    object\n",
      " 19  Reference                489 non-null    object\n",
      "dtypes: object(20)\n",
      "memory usage: 234.5+ KB\n"
     ]
    }
   ],
   "source": [
    "df.info()"
   ],
   "metadata": {
    "collapsed": false
   }
  },
  {
   "cell_type": "code",
   "execution_count": 13,
   "outputs": [
    {
     "data": {
      "text/plain": "Role                       1110\nDesired Industry             72\nSpiderID                   1500\nDesired Job Location        919\nDate Posted                 952\nType of Position             10\nAvailability Date           305\nDesired Wage                215\nU.S. Work Authorization       3\nJob Level                     7\nWilling to Travel             5\nHighest Degree Attained       9\nWilling to Relocate           4\nObjective                  1234\nExperience                 1355\nEducation                  1285\nAffiliations                393\nSkills                     1196\nAdditional Information      851\nReference                     1\ndtype: int64"
     },
     "execution_count": 13,
     "metadata": {},
     "output_type": "execute_result"
    }
   ],
   "source": [
    "df.nunique()"
   ],
   "metadata": {
    "collapsed": false
   }
  },
  {
   "cell_type": "code",
   "execution_count": 15,
   "outputs": [
    {
     "data": {
      "text/plain": "Role                        0.000000\nDesired Industry            0.000000\nSpiderID                    0.000000\nDesired Job Location        0.000000\nDate Posted                 0.000000\nType of Position            0.000000\nAvailability Date          41.600000\nDesired Wage               30.133333\nU.S. Work Authorization     7.600000\nJob Level                   0.000000\nWilling to Travel          30.266667\nHighest Degree Attained     7.866667\nWilling to Relocate         7.533333\nObjective                  13.933333\nExperience                  6.133333\nEducation                  10.266667\nAffiliations               58.333333\nSkills                     12.800000\nAdditional Information     39.133333\nReference                  67.400000\ndtype: float64"
     },
     "execution_count": 15,
     "metadata": {},
     "output_type": "execute_result"
    }
   ],
   "source": [
    "df.isnull().sum() / df.shape[0] * 100"
   ],
   "metadata": {
    "collapsed": false
   }
  },
  {
   "cell_type": "code",
   "execution_count": 2,
   "outputs": [
    {
     "ename": "NameError",
     "evalue": "name 'df' is not defined",
     "output_type": "error",
     "traceback": [
      "\u001B[0;31m---------------------------------------------------------------------------\u001B[0m",
      "\u001B[0;31mNameError\u001B[0m                                 Traceback (most recent call last)",
      "Cell \u001B[0;32mIn [2], line 1\u001B[0m\n\u001B[0;32m----> 1\u001B[0m \u001B[43mdf\u001B[49m\u001B[38;5;241m.\u001B[39mshape\n",
      "\u001B[0;31mNameError\u001B[0m: name 'df' is not defined"
     ]
    }
   ],
   "source": [
    "df.shape"
   ],
   "metadata": {
    "collapsed": false
   }
  },
  {
   "cell_type": "code",
   "execution_count": null,
   "outputs": [],
   "source": [
    "df1 = pd.read_csv('resume_data.csv')"
   ],
   "metadata": {
    "collapsed": false
   }
  },
  {
   "cell_type": "code",
   "execution_count": null,
   "outputs": [],
   "source": [
    "df1['Industry'].nunique()"
   ],
   "metadata": {
    "collapsed": false
   }
  },
  {
   "cell_type": "code",
   "execution_count": null,
   "outputs": [],
   "source": [
    "df = pd.read_csv('resume_data_improved.csv')"
   ],
   "metadata": {
    "collapsed": false
   }
  }
 ],
 "metadata": {
  "kernelspec": {
   "display_name": "Python 3",
   "language": "python",
   "name": "python3"
  },
  "language_info": {
   "codemirror_mode": {
    "name": "ipython",
    "version": 2
   },
   "file_extension": ".py",
   "mimetype": "text/x-python",
   "name": "python",
   "nbconvert_exporter": "python",
   "pygments_lexer": "ipython2",
   "version": "2.7.6"
  }
 },
 "nbformat": 4,
 "nbformat_minor": 0
}
