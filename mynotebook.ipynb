{
 "cells": [
  {
   "cell_type": "code",
   "execution_count": 1,
   "outputs": [
    {
     "data": {
      "text/plain": "(6384, 21)"
     },
     "execution_count": 1,
     "metadata": {},
     "output_type": "execute_result"
    }
   ],
   "source": [
    "# df1 = pd.read_csv('resume_data_improved.csv')\n",
    "# df2 = pd.read_csv('resume_data_developer.csv')\n",
    "import os, pandas as pd\n",
    "directory = os.path.join(os.getcwd())\n",
    "pattern = \"resume_data\"\n",
    "files = [f for f in os.listdir(directory) if os.path.isfile(os.path.join(directory, f)) and f.startswith(pattern)]\n",
    "df_full = [pd.read_csv(csv) for csv in files]\n",
    "df = pd.concat(df_full, axis=0).drop_duplicates()\n",
    "df.shape"
   ],
   "metadata": {
    "collapsed": false
   }
  },
  {
   "cell_type": "code",
   "execution_count": 2,
   "outputs": [
    {
     "data": {
      "text/plain": "   Unnamed: 0                                               Role  \\\n0           0  Conversation Designer, Prompt Engineer (AI), C...   \n1           1                       IT Support Specialist Resume   \n2           2                           Software Engineer Resume   \n3           3                                     Analyst Resume   \n4           4                         Mechanical Engineer Resume   \n\n                Desired Industry  SpiderID     Desired Job Location  \\\n0         Information Technology     83965       New York, New York   \n1         Information Technology     83943      Vero Beach, Florida   \n2  Computer Software/Programming     83929  new york city, New York   \n3          Multiple Job Offering     83923     Orangeville, Ontario   \n4                    Engineering     83916    Surrey, New Brunswick   \n\n  Date Posted     Type of Position Availability Date Desired Wage  \\\n0    3/6/2023                Other       Immediately          NaN   \n1   2/17/2023  Full-Time Permanent      1 April 2023       67,000   \n2    2/3/2023  Full-Time Permanent               NaN          NaN   \n3   1/26/2023  Full-Time Permanent   February 1 2023   negotiable   \n4   1/17/2023  Full-Time Permanent               NaN          NaN   \n\n  U.S. Work Authorization  ... Willing to Travel Highest Degree Attained  \\\n0                   Other  ...               NaN                 Masters   \n1                     Yes  ...       Yes, 50-75%                   Other   \n2                     NaN  ...               NaN                     NaN   \n3                      No  ...       Yes, 50-75%               Bachelors   \n4                     Yes  ...               NaN               Bachelors   \n\n  Willing to Relocate                                          Objective  \\\n0                 Yes  Summary\\nCreative Copywriter with strong machi...   \n1                 Yes  An administrative manager seeking a full-time ...   \n2                 NaN  I am exceptionally driven, with an entrepreneu...   \n3                 Yes  \\tOver 9 years of professional experience in ...   \n4                 Yes  PROFESSIONAL SUMMARY:\\nQuality Analyst with ov...   \n\n                                          Experience  \\\n0  11.2022  present\\nNo-Code Prompt Engineer (Ar...   \n1  Administrative Manager\\nVero Beach, FL.\\nJohn...   \n2  Diverse experience through part-time, contract...   \n3  A versatile, technically astute field piping, ...   \n4  Full Stack Java Developer \\tOzone Services, Sa...   \n\n                                           Education  \\\n0  National State University\\nMaster`s Degree in ...   \n1  Cisco Certified Network Associate (CCNA)\\n11/2...   \n2  BASc Management Engineering\\nUniversity of Wat...   \n3  Philippines Licensed Mechanical Engineer with...   \n4  Bachelor of technology\\t Mount Zion College of...   \n\n                                        Affiliations  \\\n0                                                TBA   \n1  Association for the Advancement of Cost Engine...   \n2   Microsoft AZ 900\\n AWS Certified Cloud Prac...   \n3  Military and Aerospace PUblications\\nTech Brie...   \n4                               University of Assiut   \n\n                                              Skills  \\\n0  \\tCopywriting\\n\\tContent Creation\\n\\tCreati...   \n1  Technical: Computer Architecture, Operating Sy...   \n2  MS Office; PowerPoint; Advanced Excel; Solver...   \n3  \\tExpert in reviewing mechanical site design ...   \n4  Web Technologies\\tHTML, CSS, Bootstrap, JavaSc...   \n\n                              Additional Information                Reference  \n0     Contact Information (E-mail): bigooo@online.ee  Available upon request.  \n1  ● 8+ years of experience in building massively...  Available upon request.  \n2  Security Clearance- Top Secret/SCI\\t\\t        ...  Available upon request.  \n3  I moved to Canada on an Open Work Permit Schem...  Available upon request.  \n4  Clarity, Enterprise Project Management plan, J...  Available upon request.  \n\n[5 rows x 21 columns]",
      "text/html": "<div>\n<style scoped>\n    .dataframe tbody tr th:only-of-type {\n        vertical-align: middle;\n    }\n\n    .dataframe tbody tr th {\n        vertical-align: top;\n    }\n\n    .dataframe thead th {\n        text-align: right;\n    }\n</style>\n<table border=\"1\" class=\"dataframe\">\n  <thead>\n    <tr style=\"text-align: right;\">\n      <th></th>\n      <th>Unnamed: 0</th>\n      <th>Role</th>\n      <th>Desired Industry</th>\n      <th>SpiderID</th>\n      <th>Desired Job Location</th>\n      <th>Date Posted</th>\n      <th>Type of Position</th>\n      <th>Availability Date</th>\n      <th>Desired Wage</th>\n      <th>U.S. Work Authorization</th>\n      <th>...</th>\n      <th>Willing to Travel</th>\n      <th>Highest Degree Attained</th>\n      <th>Willing to Relocate</th>\n      <th>Objective</th>\n      <th>Experience</th>\n      <th>Education</th>\n      <th>Affiliations</th>\n      <th>Skills</th>\n      <th>Additional Information</th>\n      <th>Reference</th>\n    </tr>\n  </thead>\n  <tbody>\n    <tr>\n      <th>0</th>\n      <td>0</td>\n      <td>Conversation Designer, Prompt Engineer (AI), C...</td>\n      <td>Information Technology</td>\n      <td>83965</td>\n      <td>New York, New York</td>\n      <td>3/6/2023</td>\n      <td>Other</td>\n      <td>Immediately</td>\n      <td>NaN</td>\n      <td>Other</td>\n      <td>...</td>\n      <td>NaN</td>\n      <td>Masters</td>\n      <td>Yes</td>\n      <td>Summary\\nCreative Copywriter with strong machi...</td>\n      <td>11.2022  present\\nNo-Code Prompt Engineer (Ar...</td>\n      <td>National State University\\nMaster`s Degree in ...</td>\n      <td>TBA</td>\n      <td>\\tCopywriting\\n\\tContent Creation\\n\\tCreati...</td>\n      <td>Contact Information (E-mail): bigooo@online.ee</td>\n      <td>Available upon request.</td>\n    </tr>\n    <tr>\n      <th>1</th>\n      <td>1</td>\n      <td>IT Support Specialist Resume</td>\n      <td>Information Technology</td>\n      <td>83943</td>\n      <td>Vero Beach, Florida</td>\n      <td>2/17/2023</td>\n      <td>Full-Time Permanent</td>\n      <td>1 April 2023</td>\n      <td>67,000</td>\n      <td>Yes</td>\n      <td>...</td>\n      <td>Yes, 50-75%</td>\n      <td>Other</td>\n      <td>Yes</td>\n      <td>An administrative manager seeking a full-time ...</td>\n      <td>Administrative Manager\\nVero Beach, FL.\\nJohn...</td>\n      <td>Cisco Certified Network Associate (CCNA)\\n11/2...</td>\n      <td>Association for the Advancement of Cost Engine...</td>\n      <td>Technical: Computer Architecture, Operating Sy...</td>\n      <td>● 8+ years of experience in building massively...</td>\n      <td>Available upon request.</td>\n    </tr>\n    <tr>\n      <th>2</th>\n      <td>2</td>\n      <td>Software Engineer Resume</td>\n      <td>Computer Software/Programming</td>\n      <td>83929</td>\n      <td>new york city, New York</td>\n      <td>2/3/2023</td>\n      <td>Full-Time Permanent</td>\n      <td>NaN</td>\n      <td>NaN</td>\n      <td>NaN</td>\n      <td>...</td>\n      <td>NaN</td>\n      <td>NaN</td>\n      <td>NaN</td>\n      <td>I am exceptionally driven, with an entrepreneu...</td>\n      <td>Diverse experience through part-time, contract...</td>\n      <td>BASc Management Engineering\\nUniversity of Wat...</td>\n      <td> Microsoft AZ 900\\n AWS Certified Cloud Prac...</td>\n      <td>MS Office; PowerPoint; Advanced Excel; Solver...</td>\n      <td>Security Clearance- Top Secret/SCI\\t\\t        ...</td>\n      <td>Available upon request.</td>\n    </tr>\n    <tr>\n      <th>3</th>\n      <td>3</td>\n      <td>Analyst Resume</td>\n      <td>Multiple Job Offering</td>\n      <td>83923</td>\n      <td>Orangeville, Ontario</td>\n      <td>1/26/2023</td>\n      <td>Full-Time Permanent</td>\n      <td>February 1 2023</td>\n      <td>negotiable</td>\n      <td>No</td>\n      <td>...</td>\n      <td>Yes, 50-75%</td>\n      <td>Bachelors</td>\n      <td>Yes</td>\n      <td>\\tOver 9 years of professional experience in ...</td>\n      <td>A versatile, technically astute field piping, ...</td>\n      <td>Philippines Licensed Mechanical Engineer with...</td>\n      <td>Military and Aerospace PUblications\\nTech Brie...</td>\n      <td>\\tExpert in reviewing mechanical site design ...</td>\n      <td>I moved to Canada on an Open Work Permit Schem...</td>\n      <td>Available upon request.</td>\n    </tr>\n    <tr>\n      <th>4</th>\n      <td>4</td>\n      <td>Mechanical Engineer Resume</td>\n      <td>Engineering</td>\n      <td>83916</td>\n      <td>Surrey, New Brunswick</td>\n      <td>1/17/2023</td>\n      <td>Full-Time Permanent</td>\n      <td>NaN</td>\n      <td>NaN</td>\n      <td>Yes</td>\n      <td>...</td>\n      <td>NaN</td>\n      <td>Bachelors</td>\n      <td>Yes</td>\n      <td>PROFESSIONAL SUMMARY:\\nQuality Analyst with ov...</td>\n      <td>Full Stack Java Developer \\tOzone Services, Sa...</td>\n      <td>Bachelor of technology\\t Mount Zion College of...</td>\n      <td>University of Assiut</td>\n      <td>Web Technologies\\tHTML, CSS, Bootstrap, JavaSc...</td>\n      <td>Clarity, Enterprise Project Management plan, J...</td>\n      <td>Available upon request.</td>\n    </tr>\n  </tbody>\n</table>\n<p>5 rows × 21 columns</p>\n</div>"
     },
     "execution_count": 2,
     "metadata": {},
     "output_type": "execute_result"
    }
   ],
   "source": [
    "df.head()"
   ],
   "metadata": {
    "collapsed": false
   }
  },
  {
   "cell_type": "code",
   "execution_count": 4,
   "outputs": [],
   "source": [
    "# df = pd.concat([df1, df2], axis=0).drop_duplicates()"
   ],
   "metadata": {
    "collapsed": false
   }
  },
  {
   "cell_type": "code",
   "execution_count": 3,
   "outputs": [
    {
     "data": {
      "text/plain": "Unnamed: 0                  0.000000\nRole                        0.000000\nDesired Industry            0.000000\nSpiderID                    0.000000\nDesired Job Location        0.000000\nDate Posted                 0.000000\nType of Position            0.000000\nAvailability Date          33.082707\nDesired Wage               33.536967\nU.S. Work Authorization    10.573308\nJob Level                   0.000000\nWilling to Travel          27.803885\nHighest Degree Attained    11.293860\nWilling to Relocate         9.868421\nObjective                  16.964286\nExperience                 11.105890\nEducation                  16.682331\nAffiliations               65.664160\nSkills                     20.676692\nAdditional Information     49.843358\nReference                  60.776942\ndtype: float64"
     },
     "execution_count": 3,
     "metadata": {},
     "output_type": "execute_result"
    }
   ],
   "source": [
    "df.isnull().sum() / df.shape[0] * 100"
   ],
   "metadata": {
    "collapsed": false
   }
  },
  {
   "cell_type": "code",
   "execution_count": 6,
   "outputs": [
    {
     "name": "stdout",
     "output_type": "stream",
     "text": [
      "<class 'pandas.core.frame.DataFrame'>\n",
      "Int64Index: 6054 entries, 0 to 555\n",
      "Data columns (total 21 columns):\n",
      " #   Column                   Non-Null Count  Dtype \n",
      "---  ------                   --------------  ----- \n",
      " 0   Unnamed: 0               6054 non-null   int64 \n",
      " 1   Role                     6054 non-null   object\n",
      " 2   Desired Industry         6054 non-null   object\n",
      " 3   SpiderID                 6054 non-null   int64 \n",
      " 4   Desired Job Location     6054 non-null   object\n",
      " 5   Date Posted              6054 non-null   object\n",
      " 6   Type of Position         6054 non-null   object\n",
      " 7   Availability Date        4032 non-null   object\n",
      " 8   Desired Wage             4039 non-null   object\n",
      " 9   U.S. Work Authorization  5424 non-null   object\n",
      " 10  Job Level                6054 non-null   object\n",
      " 11  Willing to Travel        4336 non-null   object\n",
      " 12  Highest Degree Attained  5375 non-null   object\n",
      " 13  Willing to Relocate      5471 non-null   object\n",
      " 14  Objective                5057 non-null   object\n",
      " 15  Experience               5415 non-null   object\n",
      " 16  Education                5076 non-null   object\n",
      " 17  Affiliations             2124 non-null   object\n",
      " 18  Skills                   4850 non-null   object\n",
      " 19  Additional Information   3094 non-null   object\n",
      " 20  Reference                2370 non-null   object\n",
      "dtypes: int64(2), object(19)\n",
      "memory usage: 1.0+ MB\n"
     ]
    }
   ],
   "source": [
    "df.info()"
   ],
   "metadata": {
    "collapsed": false
   }
  },
  {
   "cell_type": "code",
   "execution_count": 4,
   "outputs": [],
   "source": [
    "df = df.drop(['Availability Date', 'Date Posted', 'Unnamed: 0', 'Reference'], axis=1)"
   ],
   "metadata": {
    "collapsed": false
   }
  },
  {
   "cell_type": "code",
   "execution_count": 5,
   "outputs": [
    {
     "data": {
      "text/plain": "(6384, 17)"
     },
     "execution_count": 5,
     "metadata": {},
     "output_type": "execute_result"
    }
   ],
   "source": [
    "df.shape"
   ],
   "metadata": {
    "collapsed": false
   }
  },
  {
   "cell_type": "code",
   "execution_count": 7,
   "outputs": [
    {
     "data": {
      "text/plain": "Role                       3906\nDesired Industry             99\nSpiderID                   5755\nDesired Job Location       2498\nType of Position             12\nDesired Wage                788\nU.S. Work Authorization       4\nJob Level                     9\nWilling to Travel             6\nHighest Degree Attained      11\nWilling to Relocate           5\nObjective                  4516\nExperience                 4841\nEducation                  4497\nAffiliations               1272\nSkills                     4138\nAdditional Information     2598\ndtype: int64"
     },
     "execution_count": 7,
     "metadata": {},
     "output_type": "execute_result"
    }
   ],
   "source": [
    "df.nunique()"
   ],
   "metadata": {
    "collapsed": false
   }
  },
  {
   "cell_type": "code",
   "execution_count": 8,
   "outputs": [
    {
     "data": {
      "text/plain": "Willing to Relocate  U.S. Work Authorization  Willing to Travel \nYes                  Yes                      Yes, 25-50%           744\n                                              Yes, Less Than 25%    590\nNo                   Yes                      Yes, Less Than 25%    489\n                                              Yes, 25-50%           465\n                                              No                    440\nYes                  Yes                      Yes, More Than 75%    353\n                                              Yes, 50-75%           321\nUndecided            Yes                      Yes, Less Than 25%    160\n                                              Yes, 25-50%           133\nNo Preference        Yes                      Yes, More Than 75%     93\nNo                   Yes                      Yes, 50-75%            90\nYes                  Yes                      No                     75\n                     No                       Yes, More Than 75%     54\nNo                   Yes                      Yes, More Than 75%     49\nUndecided            Yes                      Yes, 50-75%            46\nYes                  No                       Yes, 50-75%            42\n                                              Yes, 25-50%            31\nUndecided            Yes                      No                     25\nYes                  No                       Yes, Less Than 25%     25\nNo Preference        Yes                      Yes, 25-50%            25\nUndecided            Yes                      Yes, More Than 75%     22\nNo Preference        Yes                      Yes, 50-75%            20\nNo                   No                       Yes, Less Than 25%     16\nNo Preference        Yes                      Yes, Less Than 25%     16\nNo                   No                       No                     15\nYes                  No                       No                     14\n                     Other                    Yes, More Than 75%     11\n                                              Yes, 25-50%            11\nNo                   No                       Yes, 25-50%             9\nNo Preference        Yes                      No                      8\nYes                  Other                    Yes, 50-75%             7\nUndecided            No                       Yes, 50-75%             7\n                                              Yes, 25-50%             5\nYes                  Other                    Yes, Less Than 25%      5\nUndecided            No                       Yes, More Than 75%      4\nNo Preference        No                       Yes, 50-75%             3\nUndecided            No                       No                      2\nNo                   No                       Yes, More Than 75%      2\n                     Other                    No                      2\n                                              Yes, 25-50%             2\nUndecided            No                       Yes, Less Than 25%      2\n                     Other                    No                      2\n                                              Yes, Less Than 25%      2\nNo Preference        No                       Yes, More Than 75%      2\n                     Other                    Yes, More Than 75%      2\nNo                   Other                    Yes, Less Than 25%      2\nNo Preference        Other                    Yes, 25-50%             1\nUndecided            Other                    Yes, 25-50%             1\nNo Preference        Other                    Yes, 50-75%             1\nUndecided            Other                    Yes, 50-75%             1\nOui                  Autre                    Oui, 25-50%             1\nNo                   No                       Yes, 50-75%             1\ndtype: int64"
     },
     "execution_count": 8,
     "metadata": {},
     "output_type": "execute_result"
    }
   ],
   "source": [
    "df[['Willing to Relocate', 'U.S. Work Authorization', 'Willing to Travel']].value_counts()"
   ],
   "metadata": {
    "collapsed": false
   }
  },
  {
   "cell_type": "code",
   "execution_count": 9,
   "outputs": [],
   "source": [
    "# FEATURE PREPROCESSING\n",
    "import numpy as np, re\n",
    "df['Willing to Relocate'] = df['Willing to Relocate'].map({'No': 'no', 'Yes': 'yes'})\n",
    "df.loc[df['U.S. Work Authorization'] == 'Other', 'U.S. Work Authorization'] = np.nan"
   ],
   "metadata": {
    "collapsed": false
   }
  },
  {
   "cell_type": "code",
   "execution_count": 10,
   "outputs": [],
   "source": [
    "def myfunc(a):\n",
    "\n",
    "    if a is np.nan:\n",
    "        return np.nan\n",
    "    res = re.search(r'([0-9]+-)*[0-9]+%$', a)\n",
    "    if res and res.group() in ['50-75%', '25%', '25-50%', '75%']:\n",
    "        return res.group()[:-1]\n",
    "    else:\n",
    "        return a\n",
    "\n",
    "df['Willing to Travel'] = df['Willing to Travel'].apply(myfunc)\n",
    "df['Willing to Travel'] = df['Willing to Travel'].map({'50-75': 0.625, 'No': 0, '25': 0.25, '25-50': 0.375})"
   ],
   "metadata": {
    "collapsed": false
   }
  },
  {
   "cell_type": "code",
   "execution_count": 11,
   "outputs": [
    {
     "name": "stdout",
     "output_type": "stream",
     "text": [
      "<class 'pandas.core.frame.DataFrame'>\n",
      "Int64Index: 6384 entries, 0 to 555\n",
      "Data columns (total 17 columns):\n",
      " #   Column                   Non-Null Count  Dtype  \n",
      "---  ------                   --------------  -----  \n",
      " 0   Role                     6384 non-null   object \n",
      " 1   Desired Industry         6384 non-null   object \n",
      " 2   SpiderID                 6384 non-null   int64  \n",
      " 3   Desired Job Location     6384 non-null   object \n",
      " 4   Type of Position         6384 non-null   object \n",
      " 5   Desired Wage             4243 non-null   object \n",
      " 6   U.S. Work Authorization  5644 non-null   object \n",
      " 7   Job Level                6384 non-null   object \n",
      " 8   Willing to Travel        3982 non-null   float64\n",
      " 9   Highest Degree Attained  5663 non-null   object \n",
      " 10  Willing to Relocate      5086 non-null   object \n",
      " 11  Objective                5301 non-null   object \n",
      " 12  Experience               5675 non-null   object \n",
      " 13  Education                5319 non-null   object \n",
      " 14  Affiliations             2192 non-null   object \n",
      " 15  Skills                   5064 non-null   object \n",
      " 16  Additional Information   3202 non-null   object \n",
      "dtypes: float64(1), int64(1), object(15)\n",
      "memory usage: 897.8+ KB\n"
     ]
    }
   ],
   "source": [
    "df.info()"
   ],
   "metadata": {
    "collapsed": false
   }
  },
  {
   "cell_type": "code",
   "execution_count": 22,
   "outputs": [
    {
     "data": {
      "text/plain": "Information Technology    1158\nCAD/Drafting               570\nAutomotive/Mechanic        511\nEngineering                374\nComputer Hardware          341\n                          ... \nWelder                       1\nHVAC                         1\nCashier                      1\nMusician                     1\nFundraising                  1\nName: Desired Industry, Length: 99, dtype: int64"
     },
     "execution_count": 22,
     "metadata": {},
     "output_type": "execute_result"
    }
   ],
   "source": [
    "df['Desired Industry'].value_counts().sort_values(ascending=False)"
   ],
   "metadata": {
    "collapsed": false
   }
  },
  {
   "cell_type": "code",
   "execution_count": 19,
   "outputs": [
    {
     "data": {
      "text/plain": "array([' AutoCAD Drafter Resume', ' CHEMICAL and PROCESS ENGINEER Resume',\n       ' C_C   _LINUX_WIN DEVELOPER Resume', ..., 'writer Resume',\n       'writer/editor Resume', 'xPression Developer Resume'], dtype=object)"
     },
     "execution_count": 19,
     "metadata": {},
     "output_type": "execute_result"
    }
   ],
   "source": [
    "df['Role'].sort_values().unique()"
   ],
   "metadata": {
    "collapsed": false
   }
  },
  {
   "cell_type": "code",
   "execution_count": 29,
   "outputs": [],
   "source": [
    "import re\n",
    "\n",
    "files = [f for f in os.listdir(directory) if os.path.isfile(os.path.join(directory, f)) and re.search(r'category_[0-9]+', f)]"
   ],
   "metadata": {
    "collapsed": false
   }
  },
  {
   "cell_type": "code",
   "execution_count": 30,
   "outputs": [],
   "source": [
    "df2 = pd.concat([pd.read_csv(csv) for csv in files], axis=0).drop_duplicates()"
   ],
   "metadata": {
    "collapsed": false
   }
  },
  {
   "cell_type": "code",
   "execution_count": 31,
   "outputs": [
    {
     "data": {
      "text/plain": "Computer Software/Programming     1057\nBanking/Mortgage                  1007\nGraphics Design/Commercial Art     604\nCAD/Drafting                       556\nAutomotive/Mechanic                483\nComputer Hardware                  330\nQuality Control                    289\nPublic Relations                   227\nName: Desired Industry, dtype: int64"
     },
     "execution_count": 31,
     "metadata": {},
     "output_type": "execute_result"
    }
   ],
   "source": [
    "df2['Desired Industry'].value_counts()"
   ],
   "metadata": {
    "collapsed": false
   }
  },
  {
   "cell_type": "code",
   "execution_count": null,
   "outputs": [],
   "source": [],
   "metadata": {
    "collapsed": false
   }
  }
 ],
 "metadata": {
  "kernelspec": {
   "display_name": "Python 3",
   "language": "python",
   "name": "python3"
  },
  "language_info": {
   "codemirror_mode": {
    "name": "ipython",
    "version": 2
   },
   "file_extension": ".py",
   "mimetype": "text/x-python",
   "name": "python",
   "nbconvert_exporter": "python",
   "pygments_lexer": "ipython2",
   "version": "2.7.6"
  }
 },
 "nbformat": 4,
 "nbformat_minor": 0
}
